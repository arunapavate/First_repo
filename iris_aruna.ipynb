{
  "nbformat": 4,
  "nbformat_minor": 0,
  "metadata": {
    "colab": {
      "provenance": [],
      "include_colab_link": true
    },
    "kernelspec": {
      "name": "python3",
      "display_name": "Python 3"
    },
    "language_info": {
      "name": "python"
    }
  },
  "cells": [
    {
      "cell_type": "markdown",
      "metadata": {
        "id": "view-in-github",
        "colab_type": "text"
      },
      "source": [
        "<a href=\"https://colab.research.google.com/github/arunapavate/First_repo/blob/main/iris_aruna.ipynb\" target=\"_parent\"><img src=\"https://colab.research.google.com/assets/colab-badge.svg\" alt=\"Open In Colab\"/></a>"
      ]
    },
    {
      "cell_type": "code",
      "execution_count": null,
      "metadata": {
        "id": "hnIt7zbxB6Rt"
      },
      "outputs": [],
      "source": [
        "import pandas as pd\n",
        "import numpy as np\n",
        "from sklearn import datasets"
      ]
    },
    {
      "cell_type": "code",
      "source": [
        "iris=datasets.load_iris()"
      ],
      "metadata": {
        "id": "3T-WqgrIB_0N"
      },
      "execution_count": null,
      "outputs": []
    },
    {
      "cell_type": "code",
      "source": [
        "iris"
      ],
      "metadata": {
        "colab": {
          "base_uri": "https://localhost:8080/"
        },
        "id": "OMPchPIyIC37",
        "outputId": "85adb39a-99d3-41ad-b2ad-ade9f948e326"
      },
      "execution_count": null,
      "outputs": [
        {
          "output_type": "execute_result",
          "data": {
            "text/plain": [
              "{'data': array([[5.1, 3.5, 1.4, 0.2],\n",
              "        [4.9, 3. , 1.4, 0.2],\n",
              "        [4.7, 3.2, 1.3, 0.2],\n",
              "        [4.6, 3.1, 1.5, 0.2],\n",
              "        [5. , 3.6, 1.4, 0.2],\n",
              "        [5.4, 3.9, 1.7, 0.4],\n",
              "        [4.6, 3.4, 1.4, 0.3],\n",
              "        [5. , 3.4, 1.5, 0.2],\n",
              "        [4.4, 2.9, 1.4, 0.2],\n",
              "        [4.9, 3.1, 1.5, 0.1],\n",
              "        [5.4, 3.7, 1.5, 0.2],\n",
              "        [4.8, 3.4, 1.6, 0.2],\n",
              "        [4.8, 3. , 1.4, 0.1],\n",
              "        [4.3, 3. , 1.1, 0.1],\n",
              "        [5.8, 4. , 1.2, 0.2],\n",
              "        [5.7, 4.4, 1.5, 0.4],\n",
              "        [5.4, 3.9, 1.3, 0.4],\n",
              "        [5.1, 3.5, 1.4, 0.3],\n",
              "        [5.7, 3.8, 1.7, 0.3],\n",
              "        [5.1, 3.8, 1.5, 0.3],\n",
              "        [5.4, 3.4, 1.7, 0.2],\n",
              "        [5.1, 3.7, 1.5, 0.4],\n",
              "        [4.6, 3.6, 1. , 0.2],\n",
              "        [5.1, 3.3, 1.7, 0.5],\n",
              "        [4.8, 3.4, 1.9, 0.2],\n",
              "        [5. , 3. , 1.6, 0.2],\n",
              "        [5. , 3.4, 1.6, 0.4],\n",
              "        [5.2, 3.5, 1.5, 0.2],\n",
              "        [5.2, 3.4, 1.4, 0.2],\n",
              "        [4.7, 3.2, 1.6, 0.2],\n",
              "        [4.8, 3.1, 1.6, 0.2],\n",
              "        [5.4, 3.4, 1.5, 0.4],\n",
              "        [5.2, 4.1, 1.5, 0.1],\n",
              "        [5.5, 4.2, 1.4, 0.2],\n",
              "        [4.9, 3.1, 1.5, 0.2],\n",
              "        [5. , 3.2, 1.2, 0.2],\n",
              "        [5.5, 3.5, 1.3, 0.2],\n",
              "        [4.9, 3.6, 1.4, 0.1],\n",
              "        [4.4, 3. , 1.3, 0.2],\n",
              "        [5.1, 3.4, 1.5, 0.2],\n",
              "        [5. , 3.5, 1.3, 0.3],\n",
              "        [4.5, 2.3, 1.3, 0.3],\n",
              "        [4.4, 3.2, 1.3, 0.2],\n",
              "        [5. , 3.5, 1.6, 0.6],\n",
              "        [5.1, 3.8, 1.9, 0.4],\n",
              "        [4.8, 3. , 1.4, 0.3],\n",
              "        [5.1, 3.8, 1.6, 0.2],\n",
              "        [4.6, 3.2, 1.4, 0.2],\n",
              "        [5.3, 3.7, 1.5, 0.2],\n",
              "        [5. , 3.3, 1.4, 0.2],\n",
              "        [7. , 3.2, 4.7, 1.4],\n",
              "        [6.4, 3.2, 4.5, 1.5],\n",
              "        [6.9, 3.1, 4.9, 1.5],\n",
              "        [5.5, 2.3, 4. , 1.3],\n",
              "        [6.5, 2.8, 4.6, 1.5],\n",
              "        [5.7, 2.8, 4.5, 1.3],\n",
              "        [6.3, 3.3, 4.7, 1.6],\n",
              "        [4.9, 2.4, 3.3, 1. ],\n",
              "        [6.6, 2.9, 4.6, 1.3],\n",
              "        [5.2, 2.7, 3.9, 1.4],\n",
              "        [5. , 2. , 3.5, 1. ],\n",
              "        [5.9, 3. , 4.2, 1.5],\n",
              "        [6. , 2.2, 4. , 1. ],\n",
              "        [6.1, 2.9, 4.7, 1.4],\n",
              "        [5.6, 2.9, 3.6, 1.3],\n",
              "        [6.7, 3.1, 4.4, 1.4],\n",
              "        [5.6, 3. , 4.5, 1.5],\n",
              "        [5.8, 2.7, 4.1, 1. ],\n",
              "        [6.2, 2.2, 4.5, 1.5],\n",
              "        [5.6, 2.5, 3.9, 1.1],\n",
              "        [5.9, 3.2, 4.8, 1.8],\n",
              "        [6.1, 2.8, 4. , 1.3],\n",
              "        [6.3, 2.5, 4.9, 1.5],\n",
              "        [6.1, 2.8, 4.7, 1.2],\n",
              "        [6.4, 2.9, 4.3, 1.3],\n",
              "        [6.6, 3. , 4.4, 1.4],\n",
              "        [6.8, 2.8, 4.8, 1.4],\n",
              "        [6.7, 3. , 5. , 1.7],\n",
              "        [6. , 2.9, 4.5, 1.5],\n",
              "        [5.7, 2.6, 3.5, 1. ],\n",
              "        [5.5, 2.4, 3.8, 1.1],\n",
              "        [5.5, 2.4, 3.7, 1. ],\n",
              "        [5.8, 2.7, 3.9, 1.2],\n",
              "        [6. , 2.7, 5.1, 1.6],\n",
              "        [5.4, 3. , 4.5, 1.5],\n",
              "        [6. , 3.4, 4.5, 1.6],\n",
              "        [6.7, 3.1, 4.7, 1.5],\n",
              "        [6.3, 2.3, 4.4, 1.3],\n",
              "        [5.6, 3. , 4.1, 1.3],\n",
              "        [5.5, 2.5, 4. , 1.3],\n",
              "        [5.5, 2.6, 4.4, 1.2],\n",
              "        [6.1, 3. , 4.6, 1.4],\n",
              "        [5.8, 2.6, 4. , 1.2],\n",
              "        [5. , 2.3, 3.3, 1. ],\n",
              "        [5.6, 2.7, 4.2, 1.3],\n",
              "        [5.7, 3. , 4.2, 1.2],\n",
              "        [5.7, 2.9, 4.2, 1.3],\n",
              "        [6.2, 2.9, 4.3, 1.3],\n",
              "        [5.1, 2.5, 3. , 1.1],\n",
              "        [5.7, 2.8, 4.1, 1.3],\n",
              "        [6.3, 3.3, 6. , 2.5],\n",
              "        [5.8, 2.7, 5.1, 1.9],\n",
              "        [7.1, 3. , 5.9, 2.1],\n",
              "        [6.3, 2.9, 5.6, 1.8],\n",
              "        [6.5, 3. , 5.8, 2.2],\n",
              "        [7.6, 3. , 6.6, 2.1],\n",
              "        [4.9, 2.5, 4.5, 1.7],\n",
              "        [7.3, 2.9, 6.3, 1.8],\n",
              "        [6.7, 2.5, 5.8, 1.8],\n",
              "        [7.2, 3.6, 6.1, 2.5],\n",
              "        [6.5, 3.2, 5.1, 2. ],\n",
              "        [6.4, 2.7, 5.3, 1.9],\n",
              "        [6.8, 3. , 5.5, 2.1],\n",
              "        [5.7, 2.5, 5. , 2. ],\n",
              "        [5.8, 2.8, 5.1, 2.4],\n",
              "        [6.4, 3.2, 5.3, 2.3],\n",
              "        [6.5, 3. , 5.5, 1.8],\n",
              "        [7.7, 3.8, 6.7, 2.2],\n",
              "        [7.7, 2.6, 6.9, 2.3],\n",
              "        [6. , 2.2, 5. , 1.5],\n",
              "        [6.9, 3.2, 5.7, 2.3],\n",
              "        [5.6, 2.8, 4.9, 2. ],\n",
              "        [7.7, 2.8, 6.7, 2. ],\n",
              "        [6.3, 2.7, 4.9, 1.8],\n",
              "        [6.7, 3.3, 5.7, 2.1],\n",
              "        [7.2, 3.2, 6. , 1.8],\n",
              "        [6.2, 2.8, 4.8, 1.8],\n",
              "        [6.1, 3. , 4.9, 1.8],\n",
              "        [6.4, 2.8, 5.6, 2.1],\n",
              "        [7.2, 3. , 5.8, 1.6],\n",
              "        [7.4, 2.8, 6.1, 1.9],\n",
              "        [7.9, 3.8, 6.4, 2. ],\n",
              "        [6.4, 2.8, 5.6, 2.2],\n",
              "        [6.3, 2.8, 5.1, 1.5],\n",
              "        [6.1, 2.6, 5.6, 1.4],\n",
              "        [7.7, 3. , 6.1, 2.3],\n",
              "        [6.3, 3.4, 5.6, 2.4],\n",
              "        [6.4, 3.1, 5.5, 1.8],\n",
              "        [6. , 3. , 4.8, 1.8],\n",
              "        [6.9, 3.1, 5.4, 2.1],\n",
              "        [6.7, 3.1, 5.6, 2.4],\n",
              "        [6.9, 3.1, 5.1, 2.3],\n",
              "        [5.8, 2.7, 5.1, 1.9],\n",
              "        [6.8, 3.2, 5.9, 2.3],\n",
              "        [6.7, 3.3, 5.7, 2.5],\n",
              "        [6.7, 3. , 5.2, 2.3],\n",
              "        [6.3, 2.5, 5. , 1.9],\n",
              "        [6.5, 3. , 5.2, 2. ],\n",
              "        [6.2, 3.4, 5.4, 2.3],\n",
              "        [5.9, 3. , 5.1, 1.8]]),\n",
              " 'target': array([0, 0, 0, 0, 0, 0, 0, 0, 0, 0, 0, 0, 0, 0, 0, 0, 0, 0, 0, 0, 0, 0,\n",
              "        0, 0, 0, 0, 0, 0, 0, 0, 0, 0, 0, 0, 0, 0, 0, 0, 0, 0, 0, 0, 0, 0,\n",
              "        0, 0, 0, 0, 0, 0, 1, 1, 1, 1, 1, 1, 1, 1, 1, 1, 1, 1, 1, 1, 1, 1,\n",
              "        1, 1, 1, 1, 1, 1, 1, 1, 1, 1, 1, 1, 1, 1, 1, 1, 1, 1, 1, 1, 1, 1,\n",
              "        1, 1, 1, 1, 1, 1, 1, 1, 1, 1, 1, 1, 2, 2, 2, 2, 2, 2, 2, 2, 2, 2,\n",
              "        2, 2, 2, 2, 2, 2, 2, 2, 2, 2, 2, 2, 2, 2, 2, 2, 2, 2, 2, 2, 2, 2,\n",
              "        2, 2, 2, 2, 2, 2, 2, 2, 2, 2, 2, 2, 2, 2, 2, 2, 2, 2]),\n",
              " 'frame': None,\n",
              " 'target_names': array(['setosa', 'versicolor', 'virginica'], dtype='<U10'),\n",
              " 'DESCR': '.. _iris_dataset:\\n\\nIris plants dataset\\n--------------------\\n\\n**Data Set Characteristics:**\\n\\n    :Number of Instances: 150 (50 in each of three classes)\\n    :Number of Attributes: 4 numeric, predictive attributes and the class\\n    :Attribute Information:\\n        - sepal length in cm\\n        - sepal width in cm\\n        - petal length in cm\\n        - petal width in cm\\n        - class:\\n                - Iris-Setosa\\n                - Iris-Versicolour\\n                - Iris-Virginica\\n                \\n    :Summary Statistics:\\n\\n    ============== ==== ==== ======= ===== ====================\\n                    Min  Max   Mean    SD   Class Correlation\\n    ============== ==== ==== ======= ===== ====================\\n    sepal length:   4.3  7.9   5.84   0.83    0.7826\\n    sepal width:    2.0  4.4   3.05   0.43   -0.4194\\n    petal length:   1.0  6.9   3.76   1.76    0.9490  (high!)\\n    petal width:    0.1  2.5   1.20   0.76    0.9565  (high!)\\n    ============== ==== ==== ======= ===== ====================\\n\\n    :Missing Attribute Values: None\\n    :Class Distribution: 33.3% for each of 3 classes.\\n    :Creator: R.A. Fisher\\n    :Donor: Michael Marshall (MARSHALL%PLU@io.arc.nasa.gov)\\n    :Date: July, 1988\\n\\nThe famous Iris database, first used by Sir R.A. Fisher. The dataset is taken\\nfrom Fisher\\'s paper. Note that it\\'s the same as in R, but not as in the UCI\\nMachine Learning Repository, which has two wrong data points.\\n\\nThis is perhaps the best known database to be found in the\\npattern recognition literature.  Fisher\\'s paper is a classic in the field and\\nis referenced frequently to this day.  (See Duda & Hart, for example.)  The\\ndata set contains 3 classes of 50 instances each, where each class refers to a\\ntype of iris plant.  One class is linearly separable from the other 2; the\\nlatter are NOT linearly separable from each other.\\n\\n.. topic:: References\\n\\n   - Fisher, R.A. \"The use of multiple measurements in taxonomic problems\"\\n     Annual Eugenics, 7, Part II, 179-188 (1936); also in \"Contributions to\\n     Mathematical Statistics\" (John Wiley, NY, 1950).\\n   - Duda, R.O., & Hart, P.E. (1973) Pattern Classification and Scene Analysis.\\n     (Q327.D83) John Wiley & Sons.  ISBN 0-471-22361-1.  See page 218.\\n   - Dasarathy, B.V. (1980) \"Nosing Around the Neighborhood: A New System\\n     Structure and Classification Rule for Recognition in Partially Exposed\\n     Environments\".  IEEE Transactions on Pattern Analysis and Machine\\n     Intelligence, Vol. PAMI-2, No. 1, 67-71.\\n   - Gates, G.W. (1972) \"The Reduced Nearest Neighbor Rule\".  IEEE Transactions\\n     on Information Theory, May 1972, 431-433.\\n   - See also: 1988 MLC Proceedings, 54-64.  Cheeseman et al\"s AUTOCLASS II\\n     conceptual clustering system finds 3 classes in the data.\\n   - Many, many more ...',\n",
              " 'feature_names': ['sepal length (cm)',\n",
              "  'sepal width (cm)',\n",
              "  'petal length (cm)',\n",
              "  'petal width (cm)'],\n",
              " 'filename': 'iris.csv',\n",
              " 'data_module': 'sklearn.datasets.data'}"
            ]
          },
          "metadata": {},
          "execution_count": 3
        }
      ]
    },
    {
      "cell_type": "code",
      "source": [
        "x=pd.DataFrame(iris.data)\n"
      ],
      "metadata": {
        "id": "2KESBBENCJv4"
      },
      "execution_count": null,
      "outputs": []
    },
    {
      "cell_type": "code",
      "source": [
        "y=pd.DataFrame(iris.target)"
      ],
      "metadata": {
        "id": "YwKd0pauCKmV"
      },
      "execution_count": null,
      "outputs": []
    },
    {
      "cell_type": "code",
      "source": [
        "x.columns=['sepal length','sepal width','petal length','petal width']"
      ],
      "metadata": {
        "id": "aewiBi1_CPhQ"
      },
      "execution_count": null,
      "outputs": []
    },
    {
      "cell_type": "code",
      "source": [
        "y.columns=['species']"
      ],
      "metadata": {
        "id": "fYfME9-eCT9k"
      },
      "execution_count": null,
      "outputs": []
    },
    {
      "cell_type": "code",
      "source": [
        "df=[x,y]\n",
        "data=pd.concat(df,axis=1)"
      ],
      "metadata": {
        "id": "DzJ_SOQ_ComH"
      },
      "execution_count": null,
      "outputs": []
    },
    {
      "cell_type": "code",
      "source": [
        "data.head()"
      ],
      "metadata": {
        "colab": {
          "base_uri": "https://localhost:8080/",
          "height": 206
        },
        "id": "Yv3uR6WVIbG9",
        "outputId": "345fc178-3815-4c40-ee40-e8d5a6f2a67b"
      },
      "execution_count": null,
      "outputs": [
        {
          "output_type": "execute_result",
          "data": {
            "text/plain": [
              "   sepal length  sepal width  petal length  petal width  species\n",
              "0           5.1          3.5           1.4          0.2        0\n",
              "1           4.9          3.0           1.4          0.2        0\n",
              "2           4.7          3.2           1.3          0.2        0\n",
              "3           4.6          3.1           1.5          0.2        0\n",
              "4           5.0          3.6           1.4          0.2        0"
            ],
            "text/html": [
              "\n",
              "  <div id=\"df-8d5dab4d-83d1-46f4-b62b-a214f4cd07f9\">\n",
              "    <div class=\"colab-df-container\">\n",
              "      <div>\n",
              "<style scoped>\n",
              "    .dataframe tbody tr th:only-of-type {\n",
              "        vertical-align: middle;\n",
              "    }\n",
              "\n",
              "    .dataframe tbody tr th {\n",
              "        vertical-align: top;\n",
              "    }\n",
              "\n",
              "    .dataframe thead th {\n",
              "        text-align: right;\n",
              "    }\n",
              "</style>\n",
              "<table border=\"1\" class=\"dataframe\">\n",
              "  <thead>\n",
              "    <tr style=\"text-align: right;\">\n",
              "      <th></th>\n",
              "      <th>sepal length</th>\n",
              "      <th>sepal width</th>\n",
              "      <th>petal length</th>\n",
              "      <th>petal width</th>\n",
              "      <th>species</th>\n",
              "    </tr>\n",
              "  </thead>\n",
              "  <tbody>\n",
              "    <tr>\n",
              "      <th>0</th>\n",
              "      <td>5.1</td>\n",
              "      <td>3.5</td>\n",
              "      <td>1.4</td>\n",
              "      <td>0.2</td>\n",
              "      <td>0</td>\n",
              "    </tr>\n",
              "    <tr>\n",
              "      <th>1</th>\n",
              "      <td>4.9</td>\n",
              "      <td>3.0</td>\n",
              "      <td>1.4</td>\n",
              "      <td>0.2</td>\n",
              "      <td>0</td>\n",
              "    </tr>\n",
              "    <tr>\n",
              "      <th>2</th>\n",
              "      <td>4.7</td>\n",
              "      <td>3.2</td>\n",
              "      <td>1.3</td>\n",
              "      <td>0.2</td>\n",
              "      <td>0</td>\n",
              "    </tr>\n",
              "    <tr>\n",
              "      <th>3</th>\n",
              "      <td>4.6</td>\n",
              "      <td>3.1</td>\n",
              "      <td>1.5</td>\n",
              "      <td>0.2</td>\n",
              "      <td>0</td>\n",
              "    </tr>\n",
              "    <tr>\n",
              "      <th>4</th>\n",
              "      <td>5.0</td>\n",
              "      <td>3.6</td>\n",
              "      <td>1.4</td>\n",
              "      <td>0.2</td>\n",
              "      <td>0</td>\n",
              "    </tr>\n",
              "  </tbody>\n",
              "</table>\n",
              "</div>\n",
              "      <button class=\"colab-df-convert\" onclick=\"convertToInteractive('df-8d5dab4d-83d1-46f4-b62b-a214f4cd07f9')\"\n",
              "              title=\"Convert this dataframe to an interactive table.\"\n",
              "              style=\"display:none;\">\n",
              "        \n",
              "  <svg xmlns=\"http://www.w3.org/2000/svg\" height=\"24px\"viewBox=\"0 0 24 24\"\n",
              "       width=\"24px\">\n",
              "    <path d=\"M0 0h24v24H0V0z\" fill=\"none\"/>\n",
              "    <path d=\"M18.56 5.44l.94 2.06.94-2.06 2.06-.94-2.06-.94-.94-2.06-.94 2.06-2.06.94zm-11 1L8.5 8.5l.94-2.06 2.06-.94-2.06-.94L8.5 2.5l-.94 2.06-2.06.94zm10 10l.94 2.06.94-2.06 2.06-.94-2.06-.94-.94-2.06-.94 2.06-2.06.94z\"/><path d=\"M17.41 7.96l-1.37-1.37c-.4-.4-.92-.59-1.43-.59-.52 0-1.04.2-1.43.59L10.3 9.45l-7.72 7.72c-.78.78-.78 2.05 0 2.83L4 21.41c.39.39.9.59 1.41.59.51 0 1.02-.2 1.41-.59l7.78-7.78 2.81-2.81c.8-.78.8-2.07 0-2.86zM5.41 20L4 18.59l7.72-7.72 1.47 1.35L5.41 20z\"/>\n",
              "  </svg>\n",
              "      </button>\n",
              "      \n",
              "  <style>\n",
              "    .colab-df-container {\n",
              "      display:flex;\n",
              "      flex-wrap:wrap;\n",
              "      gap: 12px;\n",
              "    }\n",
              "\n",
              "    .colab-df-convert {\n",
              "      background-color: #E8F0FE;\n",
              "      border: none;\n",
              "      border-radius: 50%;\n",
              "      cursor: pointer;\n",
              "      display: none;\n",
              "      fill: #1967D2;\n",
              "      height: 32px;\n",
              "      padding: 0 0 0 0;\n",
              "      width: 32px;\n",
              "    }\n",
              "\n",
              "    .colab-df-convert:hover {\n",
              "      background-color: #E2EBFA;\n",
              "      box-shadow: 0px 1px 2px rgba(60, 64, 67, 0.3), 0px 1px 3px 1px rgba(60, 64, 67, 0.15);\n",
              "      fill: #174EA6;\n",
              "    }\n",
              "\n",
              "    [theme=dark] .colab-df-convert {\n",
              "      background-color: #3B4455;\n",
              "      fill: #D2E3FC;\n",
              "    }\n",
              "\n",
              "    [theme=dark] .colab-df-convert:hover {\n",
              "      background-color: #434B5C;\n",
              "      box-shadow: 0px 1px 3px 1px rgba(0, 0, 0, 0.15);\n",
              "      filter: drop-shadow(0px 1px 2px rgba(0, 0, 0, 0.3));\n",
              "      fill: #FFFFFF;\n",
              "    }\n",
              "  </style>\n",
              "\n",
              "      <script>\n",
              "        const buttonEl =\n",
              "          document.querySelector('#df-8d5dab4d-83d1-46f4-b62b-a214f4cd07f9 button.colab-df-convert');\n",
              "        buttonEl.style.display =\n",
              "          google.colab.kernel.accessAllowed ? 'block' : 'none';\n",
              "\n",
              "        async function convertToInteractive(key) {\n",
              "          const element = document.querySelector('#df-8d5dab4d-83d1-46f4-b62b-a214f4cd07f9');\n",
              "          const dataTable =\n",
              "            await google.colab.kernel.invokeFunction('convertToInteractive',\n",
              "                                                     [key], {});\n",
              "          if (!dataTable) return;\n",
              "\n",
              "          const docLinkHtml = 'Like what you see? Visit the ' +\n",
              "            '<a target=\"_blank\" href=https://colab.research.google.com/notebooks/data_table.ipynb>data table notebook</a>'\n",
              "            + ' to learn more about interactive tables.';\n",
              "          element.innerHTML = '';\n",
              "          dataTable['output_type'] = 'display_data';\n",
              "          await google.colab.output.renderOutput(dataTable, element);\n",
              "          const docLink = document.createElement('div');\n",
              "          docLink.innerHTML = docLinkHtml;\n",
              "          element.appendChild(docLink);\n",
              "        }\n",
              "      </script>\n",
              "    </div>\n",
              "  </div>\n",
              "  "
            ]
          },
          "metadata": {},
          "execution_count": 9
        }
      ]
    },
    {
      "cell_type": "code",
      "source": [
        "import seaborn as sns\n",
        "sns.heatmap(data.corr(),annot=True,cmap='BrBG') "
      ],
      "metadata": {
        "colab": {
          "base_uri": "https://localhost:8080/",
          "height": 338
        },
        "id": "Og_GSsmHJ3Wu",
        "outputId": "044e1f79-b205-4ce2-80f8-27fa8df69570"
      },
      "execution_count": null,
      "outputs": [
        {
          "output_type": "execute_result",
          "data": {
            "text/plain": [
              "<matplotlib.axes._subplots.AxesSubplot at 0x7f12ab174610>"
            ]
          },
          "metadata": {},
          "execution_count": 10
        },
        {
          "output_type": "display_data",
          "data": {
            "text/plain": [
              "<Figure size 432x288 with 2 Axes>"
            ],
            "image/png": "[encoded data removed]"
          },
          "metadata": {
            "needs_background": "light"
          }
        }
      ]
    },
    {
      "cell_type": "code",
      "source": [
        "data.head()"
      ],
      "metadata": {
        "colab": {
          "base_uri": "https://localhost:8080/",
          "height": 206
        },
        "id": "R7V53aOWDBlp",
        "outputId": "4b55a706-113a-4c51-c23e-1309aad502d4"
      },
      "execution_count": null,
      "outputs": [
        {
          "output_type": "execute_result",
          "data": {
            "text/plain": [
              "   sepal length  sepal width  petal length  petal width  species\n",
              "0           5.1          3.5           1.4          0.2        0\n",
              "1           4.9          3.0           1.4          0.2        0\n",
              "2           4.7          3.2           1.3          0.2        0\n",
              "3           4.6          3.1           1.5          0.2        0\n",
              "4           5.0          3.6           1.4          0.2        0"
            ],
            "text/html": [
              "\n",
              "  <div id=\"df-c14167fe-9d88-4cbb-8b17-6d52d7002b72\">\n",
              "    <div class=\"colab-df-container\">\n",
              "      <div>\n",
              "<style scoped>\n",
              "    .dataframe tbody tr th:only-of-type {\n",
              "        vertical-align: middle;\n",
              "    }\n",
              "\n",
              "    .dataframe tbody tr th {\n",
              "        vertical-align: top;\n",
              "    }\n",
              "\n",
              "    .dataframe thead th {\n",
              "        text-align: right;\n",
              "    }\n",
              "</style>\n",
              "<table border=\"1\" class=\"dataframe\">\n",
              "  <thead>\n",
              "    <tr style=\"text-align: right;\">\n",
              "      <th></th>\n",
              "      <th>sepal length</th>\n",
              "      <th>sepal width</th>\n",
              "      <th>petal length</th>\n",
              "      <th>petal width</th>\n",
              "      <th>species</th>\n",
              "    </tr>\n",
              "  </thead>\n",
              "  <tbody>\n",
              "    <tr>\n",
              "      <th>0</th>\n",
              "      <td>5.1</td>\n",
              "      <td>3.5</td>\n",
              "      <td>1.4</td>\n",
              "      <td>0.2</td>\n",
              "      <td>0</td>\n",
              "    </tr>\n",
              "    <tr>\n",
              "      <th>1</th>\n",
              "      <td>4.9</td>\n",
              "      <td>3.0</td>\n",
              "      <td>1.4</td>\n",
              "      <td>0.2</td>\n",
              "      <td>0</td>\n",
              "    </tr>\n",
              "    <tr>\n",
              "      <th>2</th>\n",
              "      <td>4.7</td>\n",
              "      <td>3.2</td>\n",
              "      <td>1.3</td>\n",
              "      <td>0.2</td>\n",
              "      <td>0</td>\n",
              "    </tr>\n",
              "    <tr>\n",
              "      <th>3</th>\n",
              "      <td>4.6</td>\n",
              "      <td>3.1</td>\n",
              "      <td>1.5</td>\n",
              "      <td>0.2</td>\n",
              "      <td>0</td>\n",
              "    </tr>\n",
              "    <tr>\n",
              "      <th>4</th>\n",
              "      <td>5.0</td>\n",
              "      <td>3.6</td>\n",
              "      <td>1.4</td>\n",
              "      <td>0.2</td>\n",
              "      <td>0</td>\n",
              "    </tr>\n",
              "  </tbody>\n",
              "</table>\n",
              "</div>\n",
              "      <button class=\"colab-df-convert\" onclick=\"convertToInteractive('df-c14167fe-9d88-4cbb-8b17-6d52d7002b72')\"\n",
              "              title=\"Convert this dataframe to an interactive table.\"\n",
              "              style=\"display:none;\">\n",
              "        \n",
              "  <svg xmlns=\"http://www.w3.org/2000/svg\" height=\"24px\"viewBox=\"0 0 24 24\"\n",
              "       width=\"24px\">\n",
              "    <path d=\"M0 0h24v24H0V0z\" fill=\"none\"/>\n",
              "    <path d=\"M18.56 5.44l.94 2.06.94-2.06 2.06-.94-2.06-.94-.94-2.06-.94 2.06-2.06.94zm-11 1L8.5 8.5l.94-2.06 2.06-.94-2.06-.94L8.5 2.5l-.94 2.06-2.06.94zm10 10l.94 2.06.94-2.06 2.06-.94-2.06-.94-.94-2.06-.94 2.06-2.06.94z\"/><path d=\"M17.41 7.96l-1.37-1.37c-.4-.4-.92-.59-1.43-.59-.52 0-1.04.2-1.43.59L10.3 9.45l-7.72 7.72c-.78.78-.78 2.05 0 2.83L4 21.41c.39.39.9.59 1.41.59.51 0 1.02-.2 1.41-.59l7.78-7.78 2.81-2.81c.8-.78.8-2.07 0-2.86zM5.41 20L4 18.59l7.72-7.72 1.47 1.35L5.41 20z\"/>\n",
              "  </svg>\n",
              "      </button>\n",
              "      \n",
              "  <style>\n",
              "    .colab-df-container {\n",
              "      display:flex;\n",
              "      flex-wrap:wrap;\n",
              "      gap: 12px;\n",
              "    }\n",
              "\n",
              "    .colab-df-convert {\n",
              "      background-color: #E8F0FE;\n",
              "      border: none;\n",
              "      border-radius: 50%;\n",
              "      cursor: pointer;\n",
              "      display: none;\n",
              "      fill: #1967D2;\n",
              "      height: 32px;\n",
              "      padding: 0 0 0 0;\n",
              "      width: 32px;\n",
              "    }\n",
              "\n",
              "    .colab-df-convert:hover {\n",
              "      background-color: #E2EBFA;\n",
              "      box-shadow: 0px 1px 2px rgba(60, 64, 67, 0.3), 0px 1px 3px 1px rgba(60, 64, 67, 0.15);\n",
              "      fill: #174EA6;\n",
              "    }\n",
              "\n",
              "    [theme=dark] .colab-df-convert {\n",
              "      background-color: #3B4455;\n",
              "      fill: #D2E3FC;\n",
              "    }\n",
              "\n",
              "    [theme=dark] .colab-df-convert:hover {\n",
              "      background-color: #434B5C;\n",
              "      box-shadow: 0px 1px 3px 1px rgba(0, 0, 0, 0.15);\n",
              "      filter: drop-shadow(0px 1px 2px rgba(0, 0, 0, 0.3));\n",
              "      fill: #FFFFFF;\n",
              "    }\n",
              "  </style>\n",
              "\n",
              "      <script>\n",
              "        const buttonEl =\n",
              "          document.querySelector('#df-c14167fe-9d88-4cbb-8b17-6d52d7002b72 button.colab-df-convert');\n",
              "        buttonEl.style.display =\n",
              "          google.colab.kernel.accessAllowed ? 'block' : 'none';\n",
              "\n",
              "        async function convertToInteractive(key) {\n",
              "          const element = document.querySelector('#df-c14167fe-9d88-4cbb-8b17-6d52d7002b72');\n",
              "          const dataTable =\n",
              "            await google.colab.kernel.invokeFunction('convertToInteractive',\n",
              "                                                     [key], {});\n",
              "          if (!dataTable) return;\n",
              "\n",
              "          const docLinkHtml = 'Like what you see? Visit the ' +\n",
              "            '<a target=\"_blank\" href=https://colab.research.google.com/notebooks/data_table.ipynb>data table notebook</a>'\n",
              "            + ' to learn more about interactive tables.';\n",
              "          element.innerHTML = '';\n",
              "          dataTable['output_type'] = 'display_data';\n",
              "          await google.colab.output.renderOutput(dataTable, element);\n",
              "          const docLink = document.createElement('div');\n",
              "          docLink.innerHTML = docLinkHtml;\n",
              "          element.appendChild(docLink);\n",
              "        }\n",
              "      </script>\n",
              "    </div>\n",
              "  </div>\n",
              "  "
            ]
          },
          "metadata": {},
          "execution_count": 11
        }
      ]
    },
    {
      "cell_type": "code",
      "source": [
        "data.shape"
      ],
      "metadata": {
        "colab": {
          "base_uri": "https://localhost:8080/"
        },
        "id": "3eLoL0KfDajv",
        "outputId": "ef78f0e5-4ac3-4f18-80a5-f248f9adcfac"
      },
      "execution_count": null,
      "outputs": [
        {
          "output_type": "execute_result",
          "data": {
            "text/plain": [
              "(150, 5)"
            ]
          },
          "metadata": {},
          "execution_count": 12
        }
      ]
    },
    {
      "cell_type": "code",
      "source": [
        "data['species'].value_counts()"
      ],
      "metadata": {
        "colab": {
          "base_uri": "https://localhost:8080/"
        },
        "id": "94vh-fxHDkZT",
        "outputId": "ba83823f-14c9-4933-cd82-499c9d849d61"
      },
      "execution_count": null,
      "outputs": [
        {
          "output_type": "execute_result",
          "data": {
            "text/plain": [
              "0    50\n",
              "1    50\n",
              "2    50\n",
              "Name: species, dtype: int64"
            ]
          },
          "metadata": {},
          "execution_count": 13
        }
      ]
    },
    {
      "cell_type": "code",
      "source": [
        "data.isnull().sum()"
      ],
      "metadata": {
        "colab": {
          "base_uri": "https://localhost:8080/"
        },
        "id": "YkNYEs20D7pv",
        "outputId": "426a8294-8749-4ca0-d168-84c71be97ca9"
      },
      "execution_count": null,
      "outputs": [
        {
          "output_type": "execute_result",
          "data": {
            "text/plain": [
              "sepal length    0\n",
              "sepal width     0\n",
              "petal length    0\n",
              "petal width     0\n",
              "species         0\n",
              "dtype: int64"
            ]
          },
          "metadata": {},
          "execution_count": 14
        }
      ]
    },
    {
      "cell_type": "code",
      "source": [
        "data.info()"
      ],
      "metadata": {
        "colab": {
          "base_uri": "https://localhost:8080/"
        },
        "id": "SkHHWrEbIwTw",
        "outputId": "21264bef-8a1e-412d-e18f-3f7bb5ac1b84"
      },
      "execution_count": null,
      "outputs": [
        {
          "output_type": "stream",
          "name": "stdout",
          "text": [
            "<class 'pandas.core.frame.DataFrame'>\n",
            "RangeIndex: 150 entries, 0 to 149\n",
            "Data columns (total 5 columns):\n",
            " #   Column        Non-Null Count  Dtype  \n",
            "---  ------        --------------  -----  \n",
            " 0   sepal length  150 non-null    float64\n",
            " 1   sepal width   150 non-null    float64\n",
            " 2   petal length  150 non-null    float64\n",
            " 3   petal width   150 non-null    float64\n",
            " 4   species       150 non-null    int64  \n",
            "dtypes: float64(4), int64(1)\n",
            "memory usage: 6.0 KB\n"
          ]
        }
      ]
    },
    {
      "cell_type": "code",
      "source": [
        "data.describe()"
      ],
      "metadata": {
        "colab": {
          "base_uri": "https://localhost:8080/",
          "height": 301
        },
        "id": "2XjoxdBJD-B6",
        "outputId": "48dc7e51-718e-41bc-d87a-25735406fbbe"
      },
      "execution_count": null,
      "outputs": [
        {
          "output_type": "execute_result",
          "data": {
            "text/plain": [
              "       sepal length  sepal width  petal length  petal width     species\n",
              "count    150.000000   150.000000    150.000000   150.000000  150.000000\n",
              "mean       5.843333     3.057333      3.758000     1.199333    1.000000\n",
              "std        0.828066     0.435866      1.765298     0.762238    0.819232\n",
              "min        4.300000     2.000000      1.000000     0.100000    0.000000\n",
              "25%        5.100000     2.800000      1.600000     0.300000    0.000000\n",
              "50%        5.800000     3.000000      4.350000     1.300000    1.000000\n",
              "75%        6.400000     3.300000      5.100000     1.800000    2.000000\n",
              "max        7.900000     4.400000      6.900000     2.500000    2.000000"
            ],
            "text/html": [
              "\n",
              "  <div id=\"df-f799b306-464f-4e66-8c35-8876de115f53\">\n",
              "    <div class=\"colab-df-container\">\n",
              "      <div>\n",
              "<style scoped>\n",
              "    .dataframe tbody tr th:only-of-type {\n",
              "        vertical-align: middle;\n",
              "    }\n",
              "\n",
              "    .dataframe tbody tr th {\n",
              "        vertical-align: top;\n",
              "    }\n",
              "\n",
              "    .dataframe thead th {\n",
              "        text-align: right;\n",
              "    }\n",
              "</style>\n",
              "<table border=\"1\" class=\"dataframe\">\n",
              "  <thead>\n",
              "    <tr style=\"text-align: right;\">\n",
              "      <th></th>\n",
              "      <th>sepal length</th>\n",
              "      <th>sepal width</th>\n",
              "      <th>petal length</th>\n",
              "      <th>petal width</th>\n",
              "      <th>species</th>\n",
              "    </tr>\n",
              "  </thead>\n",
              "  <tbody>\n",
              "    <tr>\n",
              "      <th>count</th>\n",
              "      <td>150.000000</td>\n",
              "      <td>150.000000</td>\n",
              "      <td>150.000000</td>\n",
              "      <td>150.000000</td>\n",
              "      <td>150.000000</td>\n",
              "    </tr>\n",
              "    <tr>\n",
              "      <th>mean</th>\n",
              "      <td>5.843333</td>\n",
              "      <td>3.057333</td>\n",
              "      <td>3.758000</td>\n",
              "      <td>1.199333</td>\n",
              "      <td>1.000000</td>\n",
              "    </tr>\n",
              "    <tr>\n",
              "      <th>std</th>\n",
              "      <td>0.828066</td>\n",
              "      <td>0.435866</td>\n",
              "      <td>1.765298</td>\n",
              "      <td>0.762238</td>\n",
              "      <td>0.819232</td>\n",
              "    </tr>\n",
              "    <tr>\n",
              "      <th>min</th>\n",
              "      <td>4.300000</td>\n",
              "      <td>2.000000</td>\n",
              "      <td>1.000000</td>\n",
              "      <td>0.100000</td>\n",
              "      <td>0.000000</td>\n",
              "    </tr>\n",
              "    <tr>\n",
              "      <th>25%</th>\n",
              "      <td>5.100000</td>\n",
              "      <td>2.800000</td>\n",
              "      <td>1.600000</td>\n",
              "      <td>0.300000</td>\n",
              "      <td>0.000000</td>\n",
              "    </tr>\n",
              "    <tr>\n",
              "      <th>50%</th>\n",
              "      <td>5.800000</td>\n",
              "      <td>3.000000</td>\n",
              "      <td>4.350000</td>\n",
              "      <td>1.300000</td>\n",
              "      <td>1.000000</td>\n",
              "    </tr>\n",
              "    <tr>\n",
              "      <th>75%</th>\n",
              "      <td>6.400000</td>\n",
              "      <td>3.300000</td>\n",
              "      <td>5.100000</td>\n",
              "      <td>1.800000</td>\n",
              "      <td>2.000000</td>\n",
              "    </tr>\n",
              "    <tr>\n",
              "      <th>max</th>\n",
              "      <td>7.900000</td>\n",
              "      <td>4.400000</td>\n",
              "      <td>6.900000</td>\n",
              "      <td>2.500000</td>\n",
              "      <td>2.000000</td>\n",
              "    </tr>\n",
              "  </tbody>\n",
              "</table>\n",
              "</div>\n",
              "      <button class=\"colab-df-convert\" onclick=\"convertToInteractive('df-f799b306-464f-4e66-8c35-8876de115f53')\"\n",
              "              title=\"Convert this dataframe to an interactive table.\"\n",
              "              style=\"display:none;\">\n",
              "        \n",
              "  <svg xmlns=\"http://www.w3.org/2000/svg\" height=\"24px\"viewBox=\"0 0 24 24\"\n",
              "       width=\"24px\">\n",
              "    <path d=\"M0 0h24v24H0V0z\" fill=\"none\"/>\n",
              "    <path d=\"M18.56 5.44l.94 2.06.94-2.06 2.06-.94-2.06-.94-.94-2.06-.94 2.06-2.06.94zm-11 1L8.5 8.5l.94-2.06 2.06-.94-2.06-.94L8.5 2.5l-.94 2.06-2.06.94zm10 10l.94 2.06.94-2.06 2.06-.94-2.06-.94-.94-2.06-.94 2.06-2.06.94z\"/><path d=\"M17.41 7.96l-1.37-1.37c-.4-.4-.92-.59-1.43-.59-.52 0-1.04.2-1.43.59L10.3 9.45l-7.72 7.72c-.78.78-.78 2.05 0 2.83L4 21.41c.39.39.9.59 1.41.59.51 0 1.02-.2 1.41-.59l7.78-7.78 2.81-2.81c.8-.78.8-2.07 0-2.86zM5.41 20L4 18.59l7.72-7.72 1.47 1.35L5.41 20z\"/>\n",
              "  </svg>\n",
              "      </button>\n",
              "      \n",
              "  <style>\n",
              "    .colab-df-container {\n",
              "      display:flex;\n",
              "      flex-wrap:wrap;\n",
              "      gap: 12px;\n",
              "    }\n",
              "\n",
              "    .colab-df-convert {\n",
              "      background-color: #E8F0FE;\n",
              "      border: none;\n",
              "      border-radius: 50%;\n",
              "      cursor: pointer;\n",
              "      display: none;\n",
              "      fill: #1967D2;\n",
              "      height: 32px;\n",
              "      padding: 0 0 0 0;\n",
              "      width: 32px;\n",
              "    }\n",
              "\n",
              "    .colab-df-convert:hover {\n",
              "      background-color: #E2EBFA;\n",
              "      box-shadow: 0px 1px 2px rgba(60, 64, 67, 0.3), 0px 1px 3px 1px rgba(60, 64, 67, 0.15);\n",
              "      fill: #174EA6;\n",
              "    }\n",
              "\n",
              "    [theme=dark] .colab-df-convert {\n",
              "      background-color: #3B4455;\n",
              "      fill: #D2E3FC;\n",
              "    }\n",
              "\n",
              "    [theme=dark] .colab-df-convert:hover {\n",
              "      background-color: #434B5C;\n",
              "      box-shadow: 0px 1px 3px 1px rgba(0, 0, 0, 0.15);\n",
              "      filter: drop-shadow(0px 1px 2px rgba(0, 0, 0, 0.3));\n",
              "      fill: #FFFFFF;\n",
              "    }\n",
              "  </style>\n",
              "\n",
              "      <script>\n",
              "        const buttonEl =\n",
              "          document.querySelector('#df-f799b306-464f-4e66-8c35-8876de115f53 button.colab-df-convert');\n",
              "        buttonEl.style.display =\n",
              "          google.colab.kernel.accessAllowed ? 'block' : 'none';\n",
              "\n",
              "        async function convertToInteractive(key) {\n",
              "          const element = document.querySelector('#df-f799b306-464f-4e66-8c35-8876de115f53');\n",
              "          const dataTable =\n",
              "            await google.colab.kernel.invokeFunction('convertToInteractive',\n",
              "                                                     [key], {});\n",
              "          if (!dataTable) return;\n",
              "\n",
              "          const docLinkHtml = 'Like what you see? Visit the ' +\n",
              "            '<a target=\"_blank\" href=https://colab.research.google.com/notebooks/data_table.ipynb>data table notebook</a>'\n",
              "            + ' to learn more about interactive tables.';\n",
              "          element.innerHTML = '';\n",
              "          dataTable['output_type'] = 'display_data';\n",
              "          await google.colab.output.renderOutput(dataTable, element);\n",
              "          const docLink = document.createElement('div');\n",
              "          docLink.innerHTML = docLinkHtml;\n",
              "          element.appendChild(docLink);\n",
              "        }\n",
              "      </script>\n",
              "    </div>\n",
              "  </div>\n",
              "  "
            ]
          },
          "metadata": {},
          "execution_count": 16
        }
      ]
    },
    {
      "cell_type": "code",
      "source": [
        "data.corr()"
      ],
      "metadata": {
        "colab": {
          "base_uri": "https://localhost:8080/",
          "height": 206
        },
        "id": "r-cueROoD_vb",
        "outputId": "4e26d2af-20be-4f2b-cf35-0d3e6c311be0"
      },
      "execution_count": null,
      "outputs": [
        {
          "output_type": "execute_result",
          "data": {
            "text/plain": [
              "              sepal length  sepal width  petal length  petal width   species\n",
              "sepal length      1.000000    -0.117570      0.871754     0.817941  0.782561\n",
              "sepal width      -0.117570     1.000000     -0.428440    -0.366126 -0.426658\n",
              "petal length      0.871754    -0.428440      1.000000     0.962865  0.949035\n",
              "petal width       0.817941    -0.366126      0.962865     1.000000  0.956547\n",
              "species           0.782561    -0.426658      0.949035     0.956547  1.000000"
            ],
            "text/html": [
              "\n",
              "  <div id=\"df-96bb53f1-2936-40a6-babb-52a1dd3f369b\">\n",
              "    <div class=\"colab-df-container\">\n",
              "      <div>\n",
              "<style scoped>\n",
              "    .dataframe tbody tr th:only-of-type {\n",
              "        vertical-align: middle;\n",
              "    }\n",
              "\n",
              "    .dataframe tbody tr th {\n",
              "        vertical-align: top;\n",
              "    }\n",
              "\n",
              "    .dataframe thead th {\n",
              "        text-align: right;\n",
              "    }\n",
              "</style>\n",
              "<table border=\"1\" class=\"dataframe\">\n",
              "  <thead>\n",
              "    <tr style=\"text-align: right;\">\n",
              "      <th></th>\n",
              "      <th>sepal length</th>\n",
              "      <th>sepal width</th>\n",
              "      <th>petal length</th>\n",
              "      <th>petal width</th>\n",
              "      <th>species</th>\n",
              "    </tr>\n",
              "  </thead>\n",
              "  <tbody>\n",
              "    <tr>\n",
              "      <th>sepal length</th>\n",
              "      <td>1.000000</td>\n",
              "      <td>-0.117570</td>\n",
              "      <td>0.871754</td>\n",
              "      <td>0.817941</td>\n",
              "      <td>0.782561</td>\n",
              "    </tr>\n",
              "    <tr>\n",
              "      <th>sepal width</th>\n",
              "      <td>-0.117570</td>\n",
              "      <td>1.000000</td>\n",
              "      <td>-0.428440</td>\n",
              "      <td>-0.366126</td>\n",
              "      <td>-0.426658</td>\n",
              "    </tr>\n",
              "    <tr>\n",
              "      <th>petal length</th>\n",
              "      <td>0.871754</td>\n",
              "      <td>-0.428440</td>\n",
              "      <td>1.000000</td>\n",
              "      <td>0.962865</td>\n",
              "      <td>0.949035</td>\n",
              "    </tr>\n",
              "    <tr>\n",
              "      <th>petal width</th>\n",
              "      <td>0.817941</td>\n",
              "      <td>-0.366126</td>\n",
              "      <td>0.962865</td>\n",
              "      <td>1.000000</td>\n",
              "      <td>0.956547</td>\n",
              "    </tr>\n",
              "    <tr>\n",
              "      <th>species</th>\n",
              "      <td>0.782561</td>\n",
              "      <td>-0.426658</td>\n",
              "      <td>0.949035</td>\n",
              "      <td>0.956547</td>\n",
              "      <td>1.000000</td>\n",
              "    </tr>\n",
              "  </tbody>\n",
              "</table>\n",
              "</div>\n",
              "      <button class=\"colab-df-convert\" onclick=\"convertToInteractive('df-96bb53f1-2936-40a6-babb-52a1dd3f369b')\"\n",
              "              title=\"Convert this dataframe to an interactive table.\"\n",
              "              style=\"display:none;\">\n",
              "        \n",
              "  <svg xmlns=\"http://www.w3.org/2000/svg\" height=\"24px\"viewBox=\"0 0 24 24\"\n",
              "       width=\"24px\">\n",
              "    <path d=\"M0 0h24v24H0V0z\" fill=\"none\"/>\n",
              "    <path d=\"M18.56 5.44l.94 2.06.94-2.06 2.06-.94-2.06-.94-.94-2.06-.94 2.06-2.06.94zm-11 1L8.5 8.5l.94-2.06 2.06-.94-2.06-.94L8.5 2.5l-.94 2.06-2.06.94zm10 10l.94 2.06.94-2.06 2.06-.94-2.06-.94-.94-2.06-.94 2.06-2.06.94z\"/><path d=\"M17.41 7.96l-1.37-1.37c-.4-.4-.92-.59-1.43-.59-.52 0-1.04.2-1.43.59L10.3 9.45l-7.72 7.72c-.78.78-.78 2.05 0 2.83L4 21.41c.39.39.9.59 1.41.59.51 0 1.02-.2 1.41-.59l7.78-7.78 2.81-2.81c.8-.78.8-2.07 0-2.86zM5.41 20L4 18.59l7.72-7.72 1.47 1.35L5.41 20z\"/>\n",
              "  </svg>\n",
              "      </button>\n",
              "      \n",
              "  <style>\n",
              "    .colab-df-container {\n",
              "      display:flex;\n",
              "      flex-wrap:wrap;\n",
              "      gap: 12px;\n",
              "    }\n",
              "\n",
              "    .colab-df-convert {\n",
              "      background-color: #E8F0FE;\n",
              "      border: none;\n",
              "      border-radius: 50%;\n",
              "      cursor: pointer;\n",
              "      display: none;\n",
              "      fill: #1967D2;\n",
              "      height: 32px;\n",
              "      padding: 0 0 0 0;\n",
              "      width: 32px;\n",
              "    }\n",
              "\n",
              "    .colab-df-convert:hover {\n",
              "      background-color: #E2EBFA;\n",
              "      box-shadow: 0px 1px 2px rgba(60, 64, 67, 0.3), 0px 1px 3px 1px rgba(60, 64, 67, 0.15);\n",
              "      fill: #174EA6;\n",
              "    }\n",
              "\n",
              "    [theme=dark] .colab-df-convert {\n",
              "      background-color: #3B4455;\n",
              "      fill: #D2E3FC;\n",
              "    }\n",
              "\n",
              "    [theme=dark] .colab-df-convert:hover {\n",
              "      background-color: #434B5C;\n",
              "      box-shadow: 0px 1px 3px 1px rgba(0, 0, 0, 0.15);\n",
              "      filter: drop-shadow(0px 1px 2px rgba(0, 0, 0, 0.3));\n",
              "      fill: #FFFFFF;\n",
              "    }\n",
              "  </style>\n",
              "\n",
              "      <script>\n",
              "        const buttonEl =\n",
              "          document.querySelector('#df-96bb53f1-2936-40a6-babb-52a1dd3f369b button.colab-df-convert');\n",
              "        buttonEl.style.display =\n",
              "          google.colab.kernel.accessAllowed ? 'block' : 'none';\n",
              "\n",
              "        async function convertToInteractive(key) {\n",
              "          const element = document.querySelector('#df-96bb53f1-2936-40a6-babb-52a1dd3f369b');\n",
              "          const dataTable =\n",
              "            await google.colab.kernel.invokeFunction('convertToInteractive',\n",
              "                                                     [key], {});\n",
              "          if (!dataTable) return;\n",
              "\n",
              "          const docLinkHtml = 'Like what you see? Visit the ' +\n",
              "            '<a target=\"_blank\" href=https://colab.research.google.com/notebooks/data_table.ipynb>data table notebook</a>'\n",
              "            + ' to learn more about interactive tables.';\n",
              "          element.innerHTML = '';\n",
              "          dataTable['output_type'] = 'display_data';\n",
              "          await google.colab.output.renderOutput(dataTable, element);\n",
              "          const docLink = document.createElement('div');\n",
              "          docLink.innerHTML = docLinkHtml;\n",
              "          element.appendChild(docLink);\n",
              "        }\n",
              "      </script>\n",
              "    </div>\n",
              "  </div>\n",
              "  "
            ]
          },
          "metadata": {},
          "execution_count": 17
        }
      ]
    },
    {
      "cell_type": "code",
      "source": [
        "import seaborn as sns"
      ],
      "metadata": {
        "id": "m04S1qaiEBBx"
      },
      "execution_count": null,
      "outputs": []
    },
    {
      "cell_type": "code",
      "source": [
        "sns.barplot(data['species'],data['sepal length'])"
      ],
      "metadata": {
        "colab": {
          "base_uri": "https://localhost:8080/",
          "height": 352
        },
        "id": "vBALnbzpEGLp",
        "outputId": "0a6dc3b9-33b2-49c1-8239-a080b6bc9603"
      },
      "execution_count": null,
      "outputs": [
        {
          "output_type": "stream",
          "name": "stderr",
          "text": [
            "/usr/local/lib/python3.8/dist-packages/seaborn/_decorators.py:36: FutureWarning: Pass the following variables as keyword args: x, y. From version 0.12, the only valid positional argument will be `data`, and passing other arguments without an explicit keyword will result in an error or misinterpretation.\n",
            "  warnings.warn(\n"
          ]
        },
        {
          "output_type": "execute_result",
          "data": {
            "text/plain": [
              "<matplotlib.axes._subplots.AxesSubplot at 0x7f12a87e41c0>"
            ]
          },
          "metadata": {},
          "execution_count": 19
        },
        {
          "output_type": "display_data",
          "data": {
            "text/plain": [
              "<Figure size 432x288 with 1 Axes>"
            ],
            "image/png": "[encoded data removed]"
          },
          "metadata": {
            "needs_background": "light"
          }
        }
      ]
    },
    {
      "cell_type": "code",
      "source": [
        "sns.barplot(data['species'],data['sepal width'])"
      ],
      "metadata": {
        "colab": {
          "base_uri": "https://localhost:8080/",
          "height": 351
        },
        "id": "aOe0c_5WE33T",
        "outputId": "cdf51f95-7aa0-445f-ce40-2da29a7c9c79"
      },
      "execution_count": null,
      "outputs": [
        {
          "output_type": "stream",
          "name": "stderr",
          "text": [
            "/usr/local/lib/python3.8/dist-packages/seaborn/_decorators.py:36: FutureWarning: Pass the following variables as keyword args: x, y. From version 0.12, the only valid positional argument will be `data`, and passing other arguments without an explicit keyword will result in an error or misinterpretation.\n",
            "  warnings.warn(\n"
          ]
        },
        {
          "output_type": "execute_result",
          "data": {
            "text/plain": [
              "<matplotlib.axes._subplots.AxesSubplot at 0x7f12a832d4f0>"
            ]
          },
          "metadata": {},
          "execution_count": 20
        },
        {
          "output_type": "display_data",
          "data": {
            "text/plain": [
              "<Figure size 432x288 with 1 Axes>"
            ],
            "image/png": "[encoded data removed]"
          },
          "metadata": {
            "needs_background": "light"
          }
        }
      ]
    },
    {
      "cell_type": "code",
      "source": [
        "sns.barplot(data['species'],data['petal length'])"
      ],
      "metadata": {
        "colab": {
          "base_uri": "https://localhost:8080/",
          "height": 351
        },
        "id": "q5q1nK1vE8hr",
        "outputId": "088caee0-3d59-4e01-c430-d4b561fef293"
      },
      "execution_count": null,
      "outputs": [
        {
          "output_type": "stream",
          "name": "stderr",
          "text": [
            "/usr/local/lib/python3.8/dist-packages/seaborn/_decorators.py:36: FutureWarning: Pass the following variables as keyword args: x, y. From version 0.12, the only valid positional argument will be `data`, and passing other arguments without an explicit keyword will result in an error or misinterpretation.\n",
            "  warnings.warn(\n"
          ]
        },
        {
          "output_type": "execute_result",
          "data": {
            "text/plain": [
              "<matplotlib.axes._subplots.AxesSubplot at 0x7f12a8286d00>"
            ]
          },
          "metadata": {},
          "execution_count": 21
        },
        {
          "output_type": "display_data",
          "data": {
            "text/plain": [
              "<Figure size 432x288 with 1 Axes>"
            ],
            "image/png": "[encoded data removed]"
          },
          "metadata": {
            "needs_background": "light"
          }
        }
      ]
    },
    {
      "cell_type": "code",
      "source": [
        "sns.barplot(data['species'],data['petal width'])"
      ],
      "metadata": {
        "colab": {
          "base_uri": "https://localhost:8080/",
          "height": 351
        },
        "id": "5hsEYSqBFAMv",
        "outputId": "4972f05f-6d6a-49b1-e9f7-bab20772e8f3"
      },
      "execution_count": null,
      "outputs": [
        {
          "output_type": "stream",
          "name": "stderr",
          "text": [
            "/usr/local/lib/python3.8/dist-packages/seaborn/_decorators.py:36: FutureWarning: Pass the following variables as keyword args: x, y. From version 0.12, the only valid positional argument will be `data`, and passing other arguments without an explicit keyword will result in an error or misinterpretation.\n",
            "  warnings.warn(\n"
          ]
        },
        {
          "output_type": "execute_result",
          "data": {
            "text/plain": [
              "<matplotlib.axes._subplots.AxesSubplot at 0x7f12a825cd00>"
            ]
          },
          "metadata": {},
          "execution_count": 22
        },
        {
          "output_type": "display_data",
          "data": {
            "text/plain": [
              "<Figure size 432x288 with 1 Axes>"
            ],
            "image/png": "[encoded data removed]"
          },
          "metadata": {
            "needs_background": "light"
          }
        }
      ]
    },
    {
      "cell_type": "code",
      "source": [
        "sns.distplot(data['sepal length'])"
      ],
      "metadata": {
        "id": "4fSTFIklFLQw",
        "colab": {
          "base_uri": "https://localhost:8080/",
          "height": 351
        },
        "outputId": "83a5659a-f22a-4a3e-86c4-a493bced104c"
      },
      "execution_count": null,
      "outputs": [
        {
          "output_type": "stream",
          "name": "stderr",
          "text": [
            "/usr/local/lib/python3.8/dist-packages/seaborn/distributions.py:2619: FutureWarning: `distplot` is a deprecated function and will be removed in a future version. Please adapt your code to use either `displot` (a figure-level function with similar flexibility) or `histplot` (an axes-level function for histograms).\n",
            "  warnings.warn(msg, FutureWarning)\n"
          ]
        },
        {
          "output_type": "execute_result",
          "data": {
            "text/plain": [
              "<matplotlib.axes._subplots.AxesSubplot at 0x7f12a82abf10>"
            ]
          },
          "metadata": {},
          "execution_count": 23
        },
        {
          "output_type": "display_data",
          "data": {
            "text/plain": [
              "<Figure size 432x288 with 1 Axes>"
            ],
            "image/png": "[encoded data removed]"
          },
          "metadata": {
            "needs_background": "light"
          }
        }
      ]
    },
    {
      "cell_type": "code",
      "source": [
        "sns.boxplot(data['sepal length'])"
      ],
      "metadata": {
        "colab": {
          "base_uri": "https://localhost:8080/",
          "height": 351
        },
        "id": "uoCpsmQqOneX",
        "outputId": "33b611e8-b411-4c6d-f097-1ec0c5ef8ff1"
      },
      "execution_count": null,
      "outputs": [
        {
          "output_type": "stream",
          "name": "stderr",
          "text": [
            "/usr/local/lib/python3.8/dist-packages/seaborn/_decorators.py:36: FutureWarning: Pass the following variable as a keyword arg: x. From version 0.12, the only valid positional argument will be `data`, and passing other arguments without an explicit keyword will result in an error or misinterpretation.\n",
            "  warnings.warn(\n"
          ]
        },
        {
          "output_type": "execute_result",
          "data": {
            "text/plain": [
              "<matplotlib.axes._subplots.AxesSubplot at 0x7f12a61172b0>"
            ]
          },
          "metadata": {},
          "execution_count": 24
        },
        {
          "output_type": "display_data",
          "data": {
            "text/plain": [
              "<Figure size 432x288 with 1 Axes>"
            ],
            "image/png": "[encoded data removed]"
          },
          "metadata": {
            "needs_background": "light"
          }
        }
      ]
    },
    {
      "cell_type": "code",
      "source": [
        "sns.distplot(data['sepal width'])"
      ],
      "metadata": {
        "colab": {
          "base_uri": "https://localhost:8080/",
          "height": 355
        },
        "id": "sXcysnfsOX07",
        "outputId": "2eb260e3-aa9b-4d8e-b651-c4c4a94cac89"
      },
      "execution_count": null,
      "outputs": [
        {
          "output_type": "stream",
          "name": "stderr",
          "text": [
            "/usr/local/lib/python3.8/dist-packages/seaborn/distributions.py:2619: FutureWarning: `distplot` is a deprecated function and will be removed in a future version. Please adapt your code to use either `displot` (a figure-level function with similar flexibility) or `histplot` (an axes-level function for histograms).\n",
            "  warnings.warn(msg, FutureWarning)\n"
          ]
        },
        {
          "output_type": "execute_result",
          "data": {
            "text/plain": [
              "<matplotlib.axes._subplots.AxesSubplot at 0x7f12a60e9ee0>"
            ]
          },
          "metadata": {},
          "execution_count": 25
        },
        {
          "output_type": "display_data",
          "data": {
            "text/plain": [
              "<Figure size 432x288 with 1 Axes>"
            ],
            "image/png": "[encoded data removed]"
          },
          "metadata": {
            "needs_background": "light"
          }
        }
      ]
    },
    {
      "cell_type": "code",
      "source": [
        "sns.boxplot(data['sepal width'])"
      ],
      "metadata": {
        "colab": {
          "base_uri": "https://localhost:8080/",
          "height": 351
        },
        "id": "5KK7_HXgO0Lx",
        "outputId": "d559fec2-b5b5-42c4-9e6b-3aa0f06a8237"
      },
      "execution_count": null,
      "outputs": [
        {
          "output_type": "stream",
          "name": "stderr",
          "text": [
            "/usr/local/lib/python3.8/dist-packages/seaborn/_decorators.py:36: FutureWarning: Pass the following variable as a keyword arg: x. From version 0.12, the only valid positional argument will be `data`, and passing other arguments without an explicit keyword will result in an error or misinterpretation.\n",
            "  warnings.warn(\n"
          ]
        },
        {
          "output_type": "execute_result",
          "data": {
            "text/plain": [
              "<matplotlib.axes._subplots.AxesSubplot at 0x7f12a60d6f40>"
            ]
          },
          "metadata": {},
          "execution_count": 26
        },
        {
          "output_type": "display_data",
          "data": {
            "text/plain": [
              "<Figure size 432x288 with 1 Axes>"
            ],
            "image/png": "[encoded data removed]"
          },
          "metadata": {
            "needs_background": "light"
          }
        }
      ]
    },
    {
      "cell_type": "code",
      "source": [
        "sns.distplot(data['petal length'])"
      ],
      "metadata": {
        "colab": {
          "base_uri": "https://localhost:8080/",
          "height": 351
        },
        "id": "xAQp-D10ObVY",
        "outputId": "f4bbce3f-2b2e-49fc-d0be-0ad8394d9177"
      },
      "execution_count": null,
      "outputs": [
        {
          "output_type": "stream",
          "name": "stderr",
          "text": [
            "/usr/local/lib/python3.8/dist-packages/seaborn/distributions.py:2619: FutureWarning: `distplot` is a deprecated function and will be removed in a future version. Please adapt your code to use either `displot` (a figure-level function with similar flexibility) or `histplot` (an axes-level function for histograms).\n",
            "  warnings.warn(msg, FutureWarning)\n"
          ]
        },
        {
          "output_type": "execute_result",
          "data": {
            "text/plain": [
              "<matplotlib.axes._subplots.AxesSubplot at 0x7f12a5fcd670>"
            ]
          },
          "metadata": {},
          "execution_count": 27
        },
        {
          "output_type": "display_data",
          "data": {
            "text/plain": [
              "<Figure size 432x288 with 1 Axes>"
            ],
            "image/png": "[encoded data removed]"
          },
          "metadata": {
            "needs_background": "light"
          }
        }
      ]
    },
    {
      "cell_type": "code",
      "source": [
        "sns.boxplot(data['petal length'])"
      ],
      "metadata": {
        "colab": {
          "base_uri": "https://localhost:8080/",
          "height": 351
        },
        "id": "DjlRswIBPJu0",
        "outputId": "7ebd2ee2-d5d6-4523-cad1-2ac832a8bdd1"
      },
      "execution_count": null,
      "outputs": [
        {
          "output_type": "stream",
          "name": "stderr",
          "text": [
            "/usr/local/lib/python3.8/dist-packages/seaborn/_decorators.py:36: FutureWarning: Pass the following variable as a keyword arg: x. From version 0.12, the only valid positional argument will be `data`, and passing other arguments without an explicit keyword will result in an error or misinterpretation.\n",
            "  warnings.warn(\n"
          ]
        },
        {
          "output_type": "execute_result",
          "data": {
            "text/plain": [
              "<matplotlib.axes._subplots.AxesSubplot at 0x7f12a5fbb820>"
            ]
          },
          "metadata": {},
          "execution_count": 28
        },
        {
          "output_type": "display_data",
          "data": {
            "text/plain": [
              "<Figure size 432x288 with 1 Axes>"
            ],
            "image/png": "[encoded data removed]"
          },
          "metadata": {
            "needs_background": "light"
          }
        }
      ]
    },
    {
      "cell_type": "code",
      "source": [
        "sns.distplot(data['petal width'])"
      ],
      "metadata": {
        "colab": {
          "base_uri": "https://localhost:8080/",
          "height": 351
        },
        "id": "ykLOr55MP02V",
        "outputId": "85a99c52-32e3-4b39-aafa-0259a0c2ef32"
      },
      "execution_count": null,
      "outputs": [
        {
          "output_type": "stream",
          "name": "stderr",
          "text": [
            "/usr/local/lib/python3.8/dist-packages/seaborn/distributions.py:2619: FutureWarning: `distplot` is a deprecated function and will be removed in a future version. Please adapt your code to use either `displot` (a figure-level function with similar flexibility) or `histplot` (an axes-level function for histograms).\n",
            "  warnings.warn(msg, FutureWarning)\n"
          ]
        },
        {
          "output_type": "execute_result",
          "data": {
            "text/plain": [
              "<matplotlib.axes._subplots.AxesSubplot at 0x7f12a5f0b670>"
            ]
          },
          "metadata": {},
          "execution_count": 29
        },
        {
          "output_type": "display_data",
          "data": {
            "text/plain": [
              "<Figure size 432x288 with 1 Axes>"
            ],
            "image/png": "[encoded data removed]"
          },
          "metadata": {
            "needs_background": "light"
          }
        }
      ]
    },
    {
      "cell_type": "code",
      "source": [
        "sns.boxplot(data['petal width'])"
      ],
      "metadata": {
        "colab": {
          "base_uri": "https://localhost:8080/",
          "height": 351
        },
        "id": "grSvUWVeP9IW",
        "outputId": "2fe0df31-0c86-414a-f6a5-b914eccb5b5b"
      },
      "execution_count": null,
      "outputs": [
        {
          "output_type": "stream",
          "name": "stderr",
          "text": [
            "/usr/local/lib/python3.8/dist-packages/seaborn/_decorators.py:36: FutureWarning: Pass the following variable as a keyword arg: x. From version 0.12, the only valid positional argument will be `data`, and passing other arguments without an explicit keyword will result in an error or misinterpretation.\n",
            "  warnings.warn(\n"
          ]
        },
        {
          "output_type": "execute_result",
          "data": {
            "text/plain": [
              "<matplotlib.axes._subplots.AxesSubplot at 0x7f12a5e8aa30>"
            ]
          },
          "metadata": {},
          "execution_count": 30
        },
        {
          "output_type": "display_data",
          "data": {
            "text/plain": [
              "<Figure size 432x288 with 1 Axes>"
            ],
            "image/png": "[encoded data removed]"
          },
          "metadata": {
            "needs_background": "light"
          }
        }
      ]
    },
    {
      "cell_type": "code",
      "source": [
        "sns.scatterplot(data['sepal length'],data['sepal width'])"
      ],
      "metadata": {
        "colab": {
          "base_uri": "https://localhost:8080/",
          "height": 354
        },
        "id": "AARmWIZbQIfH",
        "outputId": "0a1d93d4-45a5-4871-a9a1-6714aba1b3fe"
      },
      "execution_count": null,
      "outputs": [
        {
          "output_type": "stream",
          "name": "stderr",
          "text": [
            "/usr/local/lib/python3.8/dist-packages/seaborn/_decorators.py:36: FutureWarning: Pass the following variables as keyword args: x, y. From version 0.12, the only valid positional argument will be `data`, and passing other arguments without an explicit keyword will result in an error or misinterpretation.\n",
            "  warnings.warn(\n"
          ]
        },
        {
          "output_type": "execute_result",
          "data": {
            "text/plain": [
              "<matplotlib.axes._subplots.AxesSubplot at 0x7f12a5e535e0>"
            ]
          },
          "metadata": {},
          "execution_count": 31
        },
        {
          "output_type": "display_data",
          "data": {
            "text/plain": [
              "<Figure size 432x288 with 1 Axes>"
            ],
            "image/png": "[encoded data removed]"
          },
          "metadata": {
            "needs_background": "light"
          }
        }
      ]
    },
    {
      "cell_type": "code",
      "source": [
        "sns.pairplot(data)"
      ],
      "metadata": {
        "colab": {
          "base_uri": "https://localhost:8080/",
          "height": 920
        },
        "id": "SFYzitrFQm1l",
        "outputId": "4fcbccce-8fcf-4f54-f0bc-d151bbf12ec5"
      },
      "execution_count": null,
      "outputs": [
        {
          "output_type": "execute_result",
          "data": {
            "text/plain": [
              "<seaborn.axisgrid.PairGrid at 0x7f12a5e12130>"
            ]
          },
          "metadata": {},
          "execution_count": 32
        },
        {
          "output_type": "display_data",
          "data": {
            "text/plain": [
              "<Figure size 900x900 with 30 Axes>"
            ],
            "image/png": "[encoded data removed]"
          },
          "metadata": {
            "needs_background": "light"
          }
        }
      ]
    },
    {
      "cell_type": "code",
      "source": [
        "from sklearn.model_selection import train_test_split"
      ],
      "metadata": {
        "id": "Jl0OFljLRmTO"
      },
      "execution_count": null,
      "outputs": []
    },
    {
      "cell_type": "code",
      "source": [
        "x=data.drop(columns=['species'],axis=1)\n",
        "y= pd.DataFrame(data['species'])\n",
        "y.columns= ['species']"
      ],
      "metadata": {
        "id": "eMQCU0m9Sj5y"
      },
      "execution_count": null,
      "outputs": []
    },
    {
      "cell_type": "code",
      "source": [
        "x.head()"
      ],
      "metadata": {
        "colab": {
          "base_uri": "https://localhost:8080/",
          "height": 206
        },
        "id": "21laXrMtTjpG",
        "outputId": "7dffcd23-b61c-4f8f-8816-4dd971215a54"
      },
      "execution_count": null,
      "outputs": [
        {
          "output_type": "execute_result",
          "data": {
            "text/plain": [
              "   sepal length  sepal width  petal length  petal width\n",
              "0           5.1          3.5           1.4          0.2\n",
              "1           4.9          3.0           1.4          0.2\n",
              "2           4.7          3.2           1.3          0.2\n",
              "3           4.6          3.1           1.5          0.2\n",
              "4           5.0          3.6           1.4          0.2"
            ],
            "text/html": [
              "\n",
              "  <div id=\"df-d4ae2d22-1137-4de0-996f-cba65ef432b8\">\n",
              "    <div class=\"colab-df-container\">\n",
              "      <div>\n",
              "<style scoped>\n",
              "    .dataframe tbody tr th:only-of-type {\n",
              "        vertical-align: middle;\n",
              "    }\n",
              "\n",
              "    .dataframe tbody tr th {\n",
              "        vertical-align: top;\n",
              "    }\n",
              "\n",
              "    .dataframe thead th {\n",
              "        text-align: right;\n",
              "    }\n",
              "</style>\n",
              "<table border=\"1\" class=\"dataframe\">\n",
              "  <thead>\n",
              "    <tr style=\"text-align: right;\">\n",
              "      <th></th>\n",
              "      <th>sepal length</th>\n",
              "      <th>sepal width</th>\n",
              "      <th>petal length</th>\n",
              "      <th>petal width</th>\n",
              "    </tr>\n",
              "  </thead>\n",
              "  <tbody>\n",
              "    <tr>\n",
              "      <th>0</th>\n",
              "      <td>5.1</td>\n",
              "      <td>3.5</td>\n",
              "      <td>1.4</td>\n",
              "      <td>0.2</td>\n",
              "    </tr>\n",
              "    <tr>\n",
              "      <th>1</th>\n",
              "      <td>4.9</td>\n",
              "      <td>3.0</td>\n",
              "      <td>1.4</td>\n",
              "      <td>0.2</td>\n",
              "    </tr>\n",
              "    <tr>\n",
              "      <th>2</th>\n",
              "      <td>4.7</td>\n",
              "      <td>3.2</td>\n",
              "      <td>1.3</td>\n",
              "      <td>0.2</td>\n",
              "    </tr>\n",
              "    <tr>\n",
              "      <th>3</th>\n",
              "      <td>4.6</td>\n",
              "      <td>3.1</td>\n",
              "      <td>1.5</td>\n",
              "      <td>0.2</td>\n",
              "    </tr>\n",
              "    <tr>\n",
              "      <th>4</th>\n",
              "      <td>5.0</td>\n",
              "      <td>3.6</td>\n",
              "      <td>1.4</td>\n",
              "      <td>0.2</td>\n",
              "    </tr>\n",
              "  </tbody>\n",
              "</table>\n",
              "</div>\n",
              "      <button class=\"colab-df-convert\" onclick=\"convertToInteractive('df-d4ae2d22-1137-4de0-996f-cba65ef432b8')\"\n",
              "              title=\"Convert this dataframe to an interactive table.\"\n",
              "              style=\"display:none;\">\n",
              "        \n",
              "  <svg xmlns=\"http://www.w3.org/2000/svg\" height=\"24px\"viewBox=\"0 0 24 24\"\n",
              "       width=\"24px\">\n",
              "    <path d=\"M0 0h24v24H0V0z\" fill=\"none\"/>\n",
              "    <path d=\"M18.56 5.44l.94 2.06.94-2.06 2.06-.94-2.06-.94-.94-2.06-.94 2.06-2.06.94zm-11 1L8.5 8.5l.94-2.06 2.06-.94-2.06-.94L8.5 2.5l-.94 2.06-2.06.94zm10 10l.94 2.06.94-2.06 2.06-.94-2.06-.94-.94-2.06-.94 2.06-2.06.94z\"/><path d=\"M17.41 7.96l-1.37-1.37c-.4-.4-.92-.59-1.43-.59-.52 0-1.04.2-1.43.59L10.3 9.45l-7.72 7.72c-.78.78-.78 2.05 0 2.83L4 21.41c.39.39.9.59 1.41.59.51 0 1.02-.2 1.41-.59l7.78-7.78 2.81-2.81c.8-.78.8-2.07 0-2.86zM5.41 20L4 18.59l7.72-7.72 1.47 1.35L5.41 20z\"/>\n",
              "  </svg>\n",
              "      </button>\n",
              "      \n",
              "  <style>\n",
              "    .colab-df-container {\n",
              "      display:flex;\n",
              "      flex-wrap:wrap;\n",
              "      gap: 12px;\n",
              "    }\n",
              "\n",
              "    .colab-df-convert {\n",
              "      background-color: #E8F0FE;\n",
              "      border: none;\n",
              "      border-radius: 50%;\n",
              "      cursor: pointer;\n",
              "      display: none;\n",
              "      fill: #1967D2;\n",
              "      height: 32px;\n",
              "      padding: 0 0 0 0;\n",
              "      width: 32px;\n",
              "    }\n",
              "\n",
              "    .colab-df-convert:hover {\n",
              "      background-color: #E2EBFA;\n",
              "      box-shadow: 0px 1px 2px rgba(60, 64, 67, 0.3), 0px 1px 3px 1px rgba(60, 64, 67, 0.15);\n",
              "      fill: #174EA6;\n",
              "    }\n",
              "\n",
              "    [theme=dark] .colab-df-convert {\n",
              "      background-color: #3B4455;\n",
              "      fill: #D2E3FC;\n",
              "    }\n",
              "\n",
              "    [theme=dark] .colab-df-convert:hover {\n",
              "      background-color: #434B5C;\n",
              "      box-shadow: 0px 1px 3px 1px rgba(0, 0, 0, 0.15);\n",
              "      filter: drop-shadow(0px 1px 2px rgba(0, 0, 0, 0.3));\n",
              "      fill: #FFFFFF;\n",
              "    }\n",
              "  </style>\n",
              "\n",
              "      <script>\n",
              "        const buttonEl =\n",
              "          document.querySelector('#df-d4ae2d22-1137-4de0-996f-cba65ef432b8 button.colab-df-convert');\n",
              "        buttonEl.style.display =\n",
              "          google.colab.kernel.accessAllowed ? 'block' : 'none';\n",
              "\n",
              "        async function convertToInteractive(key) {\n",
              "          const element = document.querySelector('#df-d4ae2d22-1137-4de0-996f-cba65ef432b8');\n",
              "          const dataTable =\n",
              "            await google.colab.kernel.invokeFunction('convertToInteractive',\n",
              "                                                     [key], {});\n",
              "          if (!dataTable) return;\n",
              "\n",
              "          const docLinkHtml = 'Like what you see? Visit the ' +\n",
              "            '<a target=\"_blank\" href=https://colab.research.google.com/notebooks/data_table.ipynb>data table notebook</a>'\n",
              "            + ' to learn more about interactive tables.';\n",
              "          element.innerHTML = '';\n",
              "          dataTable['output_type'] = 'display_data';\n",
              "          await google.colab.output.renderOutput(dataTable, element);\n",
              "          const docLink = document.createElement('div');\n",
              "          docLink.innerHTML = docLinkHtml;\n",
              "          element.appendChild(docLink);\n",
              "        }\n",
              "      </script>\n",
              "    </div>\n",
              "  </div>\n",
              "  "
            ]
          },
          "metadata": {},
          "execution_count": 35
        }
      ]
    },
    {
      "cell_type": "code",
      "source": [
        "xtrain,xtest,ytrain,ytest = train_test_split(x,y,test_size=0.3,random_state=1)"
      ],
      "metadata": {
        "id": "L55KiwXpSB4v"
      },
      "execution_count": null,
      "outputs": []
    },
    {
      "cell_type": "code",
      "source": [
        "xtrain.shape"
      ],
      "metadata": {
        "colab": {
          "base_uri": "https://localhost:8080/"
        },
        "id": "ielztrkrT-oG",
        "outputId": "012bcb7b-11a1-4b26-d2e5-a3c814b49f49"
      },
      "execution_count": null,
      "outputs": [
        {
          "output_type": "execute_result",
          "data": {
            "text/plain": [
              "(105, 4)"
            ]
          },
          "metadata": {},
          "execution_count": 37
        }
      ]
    },
    {
      "cell_type": "code",
      "source": [
        "xtest.shape"
      ],
      "metadata": {
        "colab": {
          "base_uri": "https://localhost:8080/"
        },
        "id": "WUcUqGkrUE5n",
        "outputId": "c95724ea-64fa-4f09-a5fd-0d5569b72908"
      },
      "execution_count": null,
      "outputs": [
        {
          "output_type": "execute_result",
          "data": {
            "text/plain": [
              "(45, 4)"
            ]
          },
          "metadata": {},
          "execution_count": 38
        }
      ]
    },
    {
      "cell_type": "code",
      "source": [
        "ytrain.shape"
      ],
      "metadata": {
        "colab": {
          "base_uri": "https://localhost:8080/"
        },
        "id": "oU6QQZX-UJwS",
        "outputId": "62955d70-bb9c-45f2-8646-f4ef9cbd11a2"
      },
      "execution_count": null,
      "outputs": [
        {
          "output_type": "execute_result",
          "data": {
            "text/plain": [
              "(105, 1)"
            ]
          },
          "metadata": {},
          "execution_count": 39
        }
      ]
    },
    {
      "cell_type": "code",
      "source": [
        "ytest.shape"
      ],
      "metadata": {
        "colab": {
          "base_uri": "https://localhost:8080/"
        },
        "id": "89OeovEsUNb7",
        "outputId": "bddb7235-49bf-44b7-f32f-d9bda36e0658"
      },
      "execution_count": null,
      "outputs": [
        {
          "output_type": "execute_result",
          "data": {
            "text/plain": [
              "(45, 1)"
            ]
          },
          "metadata": {},
          "execution_count": 40
        }
      ]
    },
    {
      "cell_type": "code",
      "source": [
        "Complete_data=data.shape[0]\n",
        "training_data=xtrain.shape[0]\n",
        "testing_data=xtest.shape[0]\n",
        "diff=[Complete_data,training_data,testing_data]\n",
        "cols=['Complete_data','training_data','testing_data']"
      ],
      "metadata": {
        "id": "Q83hYuF8URMf"
      },
      "execution_count": null,
      "outputs": []
    },
    {
      "cell_type": "code",
      "source": [
        "difference=pd.DataFrame([diff,cols]).T\n",
        "difference.columns=['Count','Data']"
      ],
      "metadata": {
        "id": "fPKPtyxhY6NB"
      },
      "execution_count": null,
      "outputs": []
    },
    {
      "cell_type": "code",
      "source": [
        "difference"
      ],
      "metadata": {
        "colab": {
          "base_uri": "https://localhost:8080/",
          "height": 144
        },
        "id": "Ursj-3_0Z2QT",
        "outputId": "99ea4152-9f8b-46f0-f3f7-84a740f09109"
      },
      "execution_count": null,
      "outputs": [
        {
          "output_type": "execute_result",
          "data": {
            "text/plain": [
              "  Count           Data\n",
              "0   150  Complete_data\n",
              "1   105  training_data\n",
              "2    45   testing_data"
            ],
            "text/html": [
              "\n",
              "  <div id=\"df-b6945c1f-624c-4e96-a531-7877c078d39f\">\n",
              "    <div class=\"colab-df-container\">\n",
              "      <div>\n",
              "<style scoped>\n",
              "    .dataframe tbody tr th:only-of-type {\n",
              "        vertical-align: middle;\n",
              "    }\n",
              "\n",
              "    .dataframe tbody tr th {\n",
              "        vertical-align: top;\n",
              "    }\n",
              "\n",
              "    .dataframe thead th {\n",
              "        text-align: right;\n",
              "    }\n",
              "</style>\n",
              "<table border=\"1\" class=\"dataframe\">\n",
              "  <thead>\n",
              "    <tr style=\"text-align: right;\">\n",
              "      <th></th>\n",
              "      <th>Count</th>\n",
              "      <th>Data</th>\n",
              "    </tr>\n",
              "  </thead>\n",
              "  <tbody>\n",
              "    <tr>\n",
              "      <th>0</th>\n",
              "      <td>150</td>\n",
              "      <td>Complete_data</td>\n",
              "    </tr>\n",
              "    <tr>\n",
              "      <th>1</th>\n",
              "      <td>105</td>\n",
              "      <td>training_data</td>\n",
              "    </tr>\n",
              "    <tr>\n",
              "      <th>2</th>\n",
              "      <td>45</td>\n",
              "      <td>testing_data</td>\n",
              "    </tr>\n",
              "  </tbody>\n",
              "</table>\n",
              "</div>\n",
              "      <button class=\"colab-df-convert\" onclick=\"convertToInteractive('df-b6945c1f-624c-4e96-a531-7877c078d39f')\"\n",
              "              title=\"Convert this dataframe to an interactive table.\"\n",
              "              style=\"display:none;\">\n",
              "        \n",
              "  <svg xmlns=\"http://www.w3.org/2000/svg\" height=\"24px\"viewBox=\"0 0 24 24\"\n",
              "       width=\"24px\">\n",
              "    <path d=\"M0 0h24v24H0V0z\" fill=\"none\"/>\n",
              "    <path d=\"M18.56 5.44l.94 2.06.94-2.06 2.06-.94-2.06-.94-.94-2.06-.94 2.06-2.06.94zm-11 1L8.5 8.5l.94-2.06 2.06-.94-2.06-.94L8.5 2.5l-.94 2.06-2.06.94zm10 10l.94 2.06.94-2.06 2.06-.94-2.06-.94-.94-2.06-.94 2.06-2.06.94z\"/><path d=\"M17.41 7.96l-1.37-1.37c-.4-.4-.92-.59-1.43-.59-.52 0-1.04.2-1.43.59L10.3 9.45l-7.72 7.72c-.78.78-.78 2.05 0 2.83L4 21.41c.39.39.9.59 1.41.59.51 0 1.02-.2 1.41-.59l7.78-7.78 2.81-2.81c.8-.78.8-2.07 0-2.86zM5.41 20L4 18.59l7.72-7.72 1.47 1.35L5.41 20z\"/>\n",
              "  </svg>\n",
              "      </button>\n",
              "      \n",
              "  <style>\n",
              "    .colab-df-container {\n",
              "      display:flex;\n",
              "      flex-wrap:wrap;\n",
              "      gap: 12px;\n",
              "    }\n",
              "\n",
              "    .colab-df-convert {\n",
              "      background-color: #E8F0FE;\n",
              "      border: none;\n",
              "      border-radius: 50%;\n",
              "      cursor: pointer;\n",
              "      display: none;\n",
              "      fill: #1967D2;\n",
              "      height: 32px;\n",
              "      padding: 0 0 0 0;\n",
              "      width: 32px;\n",
              "    }\n",
              "\n",
              "    .colab-df-convert:hover {\n",
              "      background-color: #E2EBFA;\n",
              "      box-shadow: 0px 1px 2px rgba(60, 64, 67, 0.3), 0px 1px 3px 1px rgba(60, 64, 67, 0.15);\n",
              "      fill: #174EA6;\n",
              "    }\n",
              "\n",
              "    [theme=dark] .colab-df-convert {\n",
              "      background-color: #3B4455;\n",
              "      fill: #D2E3FC;\n",
              "    }\n",
              "\n",
              "    [theme=dark] .colab-df-convert:hover {\n",
              "      background-color: #434B5C;\n",
              "      box-shadow: 0px 1px 3px 1px rgba(0, 0, 0, 0.15);\n",
              "      filter: drop-shadow(0px 1px 2px rgba(0, 0, 0, 0.3));\n",
              "      fill: #FFFFFF;\n",
              "    }\n",
              "  </style>\n",
              "\n",
              "      <script>\n",
              "        const buttonEl =\n",
              "          document.querySelector('#df-b6945c1f-624c-4e96-a531-7877c078d39f button.colab-df-convert');\n",
              "        buttonEl.style.display =\n",
              "          google.colab.kernel.accessAllowed ? 'block' : 'none';\n",
              "\n",
              "        async function convertToInteractive(key) {\n",
              "          const element = document.querySelector('#df-b6945c1f-624c-4e96-a531-7877c078d39f');\n",
              "          const dataTable =\n",
              "            await google.colab.kernel.invokeFunction('convertToInteractive',\n",
              "                                                     [key], {});\n",
              "          if (!dataTable) return;\n",
              "\n",
              "          const docLinkHtml = 'Like what you see? Visit the ' +\n",
              "            '<a target=\"_blank\" href=https://colab.research.google.com/notebooks/data_table.ipynb>data table notebook</a>'\n",
              "            + ' to learn more about interactive tables.';\n",
              "          element.innerHTML = '';\n",
              "          dataTable['output_type'] = 'display_data';\n",
              "          await google.colab.output.renderOutput(dataTable, element);\n",
              "          const docLink = document.createElement('div');\n",
              "          docLink.innerHTML = docLinkHtml;\n",
              "          element.appendChild(docLink);\n",
              "        }\n",
              "      </script>\n",
              "    </div>\n",
              "  </div>\n",
              "  "
            ]
          },
          "metadata": {},
          "execution_count": 43
        }
      ]
    },
    {
      "cell_type": "code",
      "source": [
        "sns.barplot(difference['Data'],difference['Count'])"
      ],
      "metadata": {
        "colab": {
          "base_uri": "https://localhost:8080/",
          "height": 352
        },
        "id": "h729T85-aVUa",
        "outputId": "06aee40a-f1e1-4d44-96ce-e1383a8df142"
      },
      "execution_count": null,
      "outputs": [
        {
          "output_type": "stream",
          "name": "stderr",
          "text": [
            "/usr/local/lib/python3.8/dist-packages/seaborn/_decorators.py:36: FutureWarning: Pass the following variables as keyword args: x, y. From version 0.12, the only valid positional argument will be `data`, and passing other arguments without an explicit keyword will result in an error or misinterpretation.\n",
            "  warnings.warn(\n"
          ]
        },
        {
          "output_type": "execute_result",
          "data": {
            "text/plain": [
              "<matplotlib.axes._subplots.AxesSubplot at 0x7f12a81c8e80>"
            ]
          },
          "metadata": {},
          "execution_count": 44
        },
        {
          "output_type": "display_data",
          "data": {
            "text/plain": [
              "<Figure size 432x288 with 1 Axes>"
            ],
            "image/png": "[encoded data removed]"
          },
          "metadata": {
            "needs_background": "light"
          }
        }
      ]
    },
    {
      "cell_type": "markdown",
      "source": [
        "**** Data Rescaling ****\n",
        "\n",
        "Your preprocessed data may contain attributes with a mixtures of scales for various quantities such as dollars, kilograms and sales volume.\n",
        "\n",
        "Many machine learning methods expect or are more effective if the data attributes have the same scale. \n",
        "Two popular data scaling methods are \n",
        "1. Normalization and \n",
        "2. Standardization."
      ],
      "metadata": {
        "id": "G47IcFuyC58i"
      }
    },
    {
      "cell_type": "markdown",
      "source": [
        "****Data Normalization ****\n",
        "\n",
        "Normalization refers to rescaling real valued numeric attributes into the range 0 and 1.\n",
        "\n",
        "It is useful to scale the input attributes for a model that relies on the magnitude of values, such as distance measures used in k-nearest neighbors and in the preparation of coefficients in regression."
      ],
      "metadata": {
        "id": "XvvHAbxDDbrw"
      }
    },
    {
      "cell_type": "code",
      "source": [
        "# normalize the data attributes\n",
        "from sklearn import preprocessing\n",
        "normalized_X = preprocessing.normalize(x)"
      ],
      "metadata": {
        "id": "6ezpZuZ9Eg_G"
      },
      "execution_count": null,
      "outputs": []
    },
    {
      "cell_type": "markdown",
      "source": [],
      "metadata": {
        "id": "qvF20n_Didqt"
      }
    },
    {
      "cell_type": "code",
      "source": [
        "normalized_X"
      ],
      "metadata": {
        "colab": {
          "base_uri": "https://localhost:8080/"
        },
        "id": "ppzh3l_CFXkj",
        "outputId": "a212b59a-6faf-43bf-f20e-6c4514cd7ec3"
      },
      "execution_count": null,
      "outputs": [
        {
          "output_type": "execute_result",
          "data": {
            "text/plain": [
              "array([[0.80377277, 0.55160877, 0.22064351, 0.0315205 ],\n",
              "       [0.82813287, 0.50702013, 0.23660939, 0.03380134],\n",
              "       [0.80533308, 0.54831188, 0.2227517 , 0.03426949],\n",
              "       [0.80003025, 0.53915082, 0.26087943, 0.03478392],\n",
              "       [0.790965  , 0.5694948 , 0.2214702 , 0.0316386 ],\n",
              "       [0.78417499, 0.5663486 , 0.2468699 , 0.05808704],\n",
              "       [0.78010936, 0.57660257, 0.23742459, 0.0508767 ],\n",
              "       [0.80218492, 0.54548574, 0.24065548, 0.0320874 ],\n",
              "       [0.80642366, 0.5315065 , 0.25658935, 0.03665562],\n",
              "       [0.81803119, 0.51752994, 0.25041771, 0.01669451],\n",
              "       [0.80373519, 0.55070744, 0.22325977, 0.02976797],\n",
              "       [0.786991  , 0.55745196, 0.26233033, 0.03279129],\n",
              "       [0.82307218, 0.51442011, 0.24006272, 0.01714734],\n",
              "       [0.8025126 , 0.55989251, 0.20529392, 0.01866308],\n",
              "       [0.81120865, 0.55945424, 0.16783627, 0.02797271],\n",
              "       [0.77381111, 0.59732787, 0.2036345 , 0.05430253],\n",
              "       [0.79428944, 0.57365349, 0.19121783, 0.05883625],\n",
              "       [0.80327412, 0.55126656, 0.22050662, 0.04725142],\n",
              "       [0.8068282 , 0.53788547, 0.24063297, 0.04246464],\n",
              "       [0.77964883, 0.58091482, 0.22930848, 0.0458617 ],\n",
              "       [0.8173379 , 0.51462016, 0.25731008, 0.03027177],\n",
              "       [0.78591858, 0.57017622, 0.23115252, 0.06164067],\n",
              "       [0.77577075, 0.60712493, 0.16864581, 0.03372916],\n",
              "       [0.80597792, 0.52151512, 0.26865931, 0.07901744],\n",
              "       [0.776114  , 0.54974742, 0.30721179, 0.03233808],\n",
              "       [0.82647451, 0.4958847 , 0.26447184, 0.03305898],\n",
              "       [0.79778206, 0.5424918 , 0.25529026, 0.06382256],\n",
              "       [0.80641965, 0.54278246, 0.23262105, 0.03101614],\n",
              "       [0.81609427, 0.5336001 , 0.21971769, 0.03138824],\n",
              "       [0.79524064, 0.54144043, 0.27072022, 0.03384003],\n",
              "       [0.80846584, 0.52213419, 0.26948861, 0.03368608],\n",
              "       [0.82225028, 0.51771314, 0.22840286, 0.06090743],\n",
              "       [0.76578311, 0.60379053, 0.22089897, 0.0147266 ],\n",
              "       [0.77867447, 0.59462414, 0.19820805, 0.02831544],\n",
              "       [0.81768942, 0.51731371, 0.25031309, 0.03337508],\n",
              "       [0.82512295, 0.52807869, 0.19802951, 0.03300492],\n",
              "       [0.82699754, 0.52627116, 0.19547215, 0.03007264],\n",
              "       [0.78523221, 0.5769053 , 0.22435206, 0.01602515],\n",
              "       [0.80212413, 0.54690282, 0.23699122, 0.03646019],\n",
              "       [0.80779568, 0.53853046, 0.23758697, 0.03167826],\n",
              "       [0.80033301, 0.56023311, 0.20808658, 0.04801998],\n",
              "       [0.86093857, 0.44003527, 0.24871559, 0.0573959 ],\n",
              "       [0.78609038, 0.57170209, 0.23225397, 0.03573138],\n",
              "       [0.78889479, 0.55222635, 0.25244633, 0.09466737],\n",
              "       [0.76693897, 0.57144472, 0.28572236, 0.06015208],\n",
              "       [0.82210585, 0.51381615, 0.23978087, 0.05138162],\n",
              "       [0.77729093, 0.57915795, 0.24385598, 0.030482  ],\n",
              "       [0.79594782, 0.55370283, 0.24224499, 0.03460643],\n",
              "       [0.79837025, 0.55735281, 0.22595384, 0.03012718],\n",
              "       [0.81228363, 0.5361072 , 0.22743942, 0.03249135],\n",
              "       [0.76701103, 0.35063361, 0.51499312, 0.15340221],\n",
              "       [0.74549757, 0.37274878, 0.52417798, 0.17472599],\n",
              "       [0.75519285, 0.33928954, 0.53629637, 0.16417236],\n",
              "       [0.75384916, 0.31524601, 0.54825394, 0.17818253],\n",
              "       [0.7581754 , 0.32659863, 0.5365549 , 0.17496355],\n",
              "       [0.72232962, 0.35482858, 0.57026022, 0.16474184],\n",
              "       [0.72634846, 0.38046824, 0.54187901, 0.18446945],\n",
              "       [0.75916547, 0.37183615, 0.51127471, 0.15493173],\n",
              "       [0.76301853, 0.33526572, 0.53180079, 0.15029153],\n",
              "       [0.72460233, 0.37623583, 0.54345175, 0.19508524],\n",
              "       [0.76923077, 0.30769231, 0.53846154, 0.15384615],\n",
              "       [0.73923462, 0.37588201, 0.52623481, 0.187941  ],\n",
              "       [0.78892752, 0.28927343, 0.52595168, 0.13148792],\n",
              "       [0.73081412, 0.34743622, 0.56308629, 0.16772783],\n",
              "       [0.75911707, 0.3931142 , 0.48800383, 0.17622361],\n",
              "       [0.76945444, 0.35601624, 0.50531337, 0.16078153],\n",
              "       [0.70631892, 0.37838513, 0.5675777 , 0.18919257],\n",
              "       [0.75676497, 0.35228714, 0.53495455, 0.13047672],\n",
              "       [0.76444238, 0.27125375, 0.55483721, 0.18494574],\n",
              "       [0.76185188, 0.34011245, 0.53057542, 0.14964948],\n",
              "       [0.6985796 , 0.37889063, 0.56833595, 0.21312598],\n",
              "       [0.77011854, 0.35349703, 0.50499576, 0.16412362],\n",
              "       [0.74143307, 0.29421947, 0.57667016, 0.17653168],\n",
              "       [0.73659895, 0.33811099, 0.56754345, 0.14490471],\n",
              "       [0.76741698, 0.34773582, 0.51560829, 0.15588157],\n",
              "       [0.76785726, 0.34902603, 0.51190484, 0.16287881],\n",
              "       [0.76467269, 0.31486523, 0.53976896, 0.15743261],\n",
              "       [0.74088576, 0.33173989, 0.55289982, 0.18798594],\n",
              "       [0.73350949, 0.35452959, 0.55013212, 0.18337737],\n",
              "       [0.78667474, 0.35883409, 0.48304589, 0.13801311],\n",
              "       [0.76521855, 0.33391355, 0.52869645, 0.15304371],\n",
              "       [0.77242925, 0.33706004, 0.51963422, 0.14044168],\n",
              "       [0.76434981, 0.35581802, 0.51395936, 0.15814134],\n",
              "       [0.70779525, 0.31850786, 0.60162596, 0.1887454 ],\n",
              "       [0.69333409, 0.38518561, 0.57777841, 0.1925928 ],\n",
              "       [0.71524936, 0.40530797, 0.53643702, 0.19073316],\n",
              "       [0.75457341, 0.34913098, 0.52932761, 0.16893434],\n",
              "       [0.77530021, 0.28304611, 0.54147951, 0.15998258],\n",
              "       [0.72992443, 0.39103094, 0.53440896, 0.16944674],\n",
              "       [0.74714194, 0.33960997, 0.54337595, 0.17659719],\n",
              "       [0.72337118, 0.34195729, 0.57869695, 0.15782644],\n",
              "       [0.73260391, 0.36029701, 0.55245541, 0.1681386 ],\n",
              "       [0.76262994, 0.34186859, 0.52595168, 0.1577855 ],\n",
              "       [0.76986879, 0.35413965, 0.5081134 , 0.15397376],\n",
              "       [0.73544284, 0.35458851, 0.55158213, 0.1707278 ],\n",
              "       [0.73239618, 0.38547167, 0.53966034, 0.15418867],\n",
              "       [0.73446047, 0.37367287, 0.5411814 , 0.16750853],\n",
              "       [0.75728103, 0.3542121 , 0.52521104, 0.15878473],\n",
              "       [0.78258054, 0.38361791, 0.4603415 , 0.16879188],\n",
              "       [0.7431482 , 0.36505526, 0.5345452 , 0.16948994],\n",
              "       [0.65387747, 0.34250725, 0.62274045, 0.25947519],\n",
              "       [0.69052512, 0.32145135, 0.60718588, 0.22620651],\n",
              "       [0.71491405, 0.30207636, 0.59408351, 0.21145345],\n",
              "       [0.69276796, 0.31889319, 0.61579374, 0.1979337 ],\n",
              "       [0.68619022, 0.31670318, 0.61229281, 0.232249  ],\n",
              "       [0.70953708, 0.28008043, 0.61617694, 0.1960563 ],\n",
              "       [0.67054118, 0.34211284, 0.61580312, 0.23263673],\n",
              "       [0.71366557, 0.28351098, 0.61590317, 0.17597233],\n",
              "       [0.71414125, 0.26647062, 0.61821183, 0.19185884],\n",
              "       [0.69198788, 0.34599394, 0.58626751, 0.24027357],\n",
              "       [0.71562645, 0.3523084 , 0.56149152, 0.22019275],\n",
              "       [0.71576546, 0.30196356, 0.59274328, 0.21249287],\n",
              "       [0.71718148, 0.31640359, 0.58007326, 0.22148252],\n",
              "       [0.6925518 , 0.30375079, 0.60750157, 0.24300063],\n",
              "       [0.67767924, 0.32715549, 0.59589036, 0.28041899],\n",
              "       [0.69589887, 0.34794944, 0.57629125, 0.25008866],\n",
              "       [0.70610474, 0.3258945 , 0.59747324, 0.1955367 ],\n",
              "       [0.69299099, 0.34199555, 0.60299216, 0.19799743],\n",
              "       [0.70600618, 0.2383917 , 0.63265489, 0.21088496],\n",
              "       [0.72712585, 0.26661281, 0.60593821, 0.18178146],\n",
              "       [0.70558934, 0.32722984, 0.58287815, 0.23519645],\n",
              "       [0.68307923, 0.34153961, 0.59769433, 0.24395687],\n",
              "       [0.71486543, 0.25995106, 0.62202576, 0.18567933],\n",
              "       [0.73122464, 0.31338199, 0.56873028, 0.20892133],\n",
              "       [0.69595601, 0.3427843 , 0.59208198, 0.21813547],\n",
              "       [0.71529453, 0.31790868, 0.59607878, 0.17882363],\n",
              "       [0.72785195, 0.32870733, 0.56349829, 0.21131186],\n",
              "       [0.71171214, 0.35002236, 0.57170319, 0.21001342],\n",
              "       [0.69594002, 0.30447376, 0.60894751, 0.22835532],\n",
              "       [0.73089855, 0.30454106, 0.58877939, 0.1624219 ],\n",
              "       [0.72766159, 0.27533141, 0.59982915, 0.18683203],\n",
              "       [0.71578999, 0.34430405, 0.5798805 , 0.18121266],\n",
              "       [0.69417747, 0.30370264, 0.60740528, 0.2386235 ],\n",
              "       [0.72366005, 0.32162669, 0.58582004, 0.17230001],\n",
              "       [0.69385414, 0.29574111, 0.63698085, 0.15924521],\n",
              "       [0.73154399, 0.28501714, 0.57953485, 0.21851314],\n",
              "       [0.67017484, 0.36168166, 0.59571097, 0.2553047 ],\n",
              "       [0.69804799, 0.338117  , 0.59988499, 0.196326  ],\n",
              "       [0.71066905, 0.35533453, 0.56853524, 0.21320072],\n",
              "       [0.72415258, 0.32534391, 0.56672811, 0.22039426],\n",
              "       [0.69997037, 0.32386689, 0.58504986, 0.25073566],\n",
              "       [0.73337886, 0.32948905, 0.54206264, 0.24445962],\n",
              "       [0.69052512, 0.32145135, 0.60718588, 0.22620651],\n",
              "       [0.69193502, 0.32561648, 0.60035539, 0.23403685],\n",
              "       [0.68914871, 0.33943145, 0.58629069, 0.25714504],\n",
              "       [0.72155725, 0.32308533, 0.56001458, 0.24769876],\n",
              "       [0.72965359, 0.28954508, 0.57909015, 0.22005426],\n",
              "       [0.71653899, 0.3307103 , 0.57323119, 0.22047353],\n",
              "       [0.67467072, 0.36998072, 0.58761643, 0.25028107],\n",
              "       [0.69025916, 0.35097923, 0.5966647 , 0.21058754]])"
            ]
          },
          "metadata": {},
          "execution_count": 46
        }
      ]
    },
    {
      "cell_type": "markdown",
      "source": [
        "Data Normalization\n",
        "\n",
        "Normalization is a rescaling of the data from the original range so that all values are within the new range of 0 and 1.\n",
        "\n",
        "Normalization requires that you know or are able to accurately estimate the minimum and maximum observable values. You may be able to estimate these values from your available data.\n",
        "\n",
        "Attributes are often normalized to lie in a fixed range — usually from zero to one—by dividing all values by the maximum value encountered or by subtracting the minimum value and dividing by the range between the maximum and minimum values.\n",
        "\n",
        "\n",
        "A value is normalized as follows:\n",
        "\n",
        "y = (x – min) / (max – min)\n",
        "\n",
        "Where the minimum and maximum values pertain to the value x being normalized.\n",
        "\n",
        "For example, for a dataset, we could guesstimate the min and max observable values as 30 and -10. We can then normalize any value, like 18.8, as follows:\n",
        "\n",
        "y = (x – min) / (max – min)\n",
        "\n",
        "y = (18.8 – (-10)) / (30 – (-10))\n",
        "\n",
        "y = 28.8 / 40\n",
        "\n",
        "y = 0.72\n",
        "\n",
        "You can see that if an x value is provided that is outside the bounds of the minimum and maximum values, the resulting value will not be in the range of 0 and "
      ],
      "metadata": {
        "id": "SWjIzbGIkRqr"
      }
    },
    {
      "cell_type": "code",
      "source": [
        "# example of a normalization\n",
        "from numpy import asarray\n",
        "from sklearn.preprocessing import MinMaxScaler\n",
        "# define data\n",
        "data = asarray([[100, 0.001],\n",
        " [8, 0.05],\n",
        " [50, 0.005],\n",
        " [88, 0.07],\n",
        " [4, 0.1]])\n",
        "print(data)\n",
        "# define min max scaler\n",
        "scaler = MinMaxScaler()\n",
        "# transform data\n",
        "scaled = scaler.fit_transform(data)\n",
        "print(scaled)"
      ],
      "metadata": {
        "colab": {
          "base_uri": "https://localhost:8080/"
        },
        "id": "5QLFJ7ikie7j",
        "outputId": "f96a27b6-acbd-4127-b8f7-1f838ed1ecf0"
      },
      "execution_count": null,
      "outputs": [
        {
          "output_type": "stream",
          "name": "stdout",
          "text": [
            "[[1.0e+02 1.0e-03]\n",
            " [8.0e+00 5.0e-02]\n",
            " [5.0e+01 5.0e-03]\n",
            " [8.8e+01 7.0e-02]\n",
            " [4.0e+00 1.0e-01]]\n",
            "[[1.         0.        ]\n",
            " [0.04166667 0.49494949]\n",
            " [0.47916667 0.04040404]\n",
            " [0.875      0.6969697 ]\n",
            " [0.         1.        ]]\n"
          ]
        }
      ]
    },
    {
      "cell_type": "markdown",
      "source": [
        "Consider the data set: 2, 1, 3, 2, 4. The mean and the sum of squares of deviations of the observations from the mean will be 2.4 and 5.2, respectively. Thus, the standard deviation will be √(5.2/5) = 1.01."
      ],
      "metadata": {
        "id": "DLL7jvldInlR"
      }
    },
    {
      "cell_type": "code",
      "source": [
        "# standardize the data attributes\n",
        "standardized_X = preprocessing.scale(x)"
      ],
      "metadata": {
        "id": "MOzdQfnagq6c"
      },
      "execution_count": null,
      "outputs": []
    },
    {
      "cell_type": "code",
      "source": [
        "standardized_X"
      ],
      "metadata": {
        "colab": {
          "base_uri": "https://localhost:8080/"
        },
        "id": "10lSyc-lg3za",
        "outputId": "074303e4-f236-46bd-c11c-e9b1f3d277a9"
      },
      "execution_count": null,
      "outputs": [
        {
          "output_type": "execute_result",
          "data": {
            "text/plain": [
              "array([[-9.00681170e-01,  1.01900435e+00, -1.34022653e+00,\n",
              "        -1.31544430e+00],\n",
              "       [-1.14301691e+00, -1.31979479e-01, -1.34022653e+00,\n",
              "        -1.31544430e+00],\n",
              "       [-1.38535265e+00,  3.28414053e-01, -1.39706395e+00,\n",
              "        -1.31544430e+00],\n",
              "       [-1.50652052e+00,  9.82172869e-02, -1.28338910e+00,\n",
              "        -1.31544430e+00],\n",
              "       [-1.02184904e+00,  1.24920112e+00, -1.34022653e+00,\n",
              "        -1.31544430e+00],\n",
              "       [-5.37177559e-01,  1.93979142e+00, -1.16971425e+00,\n",
              "        -1.05217993e+00],\n",
              "       [-1.50652052e+00,  7.88807586e-01, -1.34022653e+00,\n",
              "        -1.18381211e+00],\n",
              "       [-1.02184904e+00,  7.88807586e-01, -1.28338910e+00,\n",
              "        -1.31544430e+00],\n",
              "       [-1.74885626e+00, -3.62176246e-01, -1.34022653e+00,\n",
              "        -1.31544430e+00],\n",
              "       [-1.14301691e+00,  9.82172869e-02, -1.28338910e+00,\n",
              "        -1.44707648e+00],\n",
              "       [-5.37177559e-01,  1.47939788e+00, -1.28338910e+00,\n",
              "        -1.31544430e+00],\n",
              "       [-1.26418478e+00,  7.88807586e-01, -1.22655167e+00,\n",
              "        -1.31544430e+00],\n",
              "       [-1.26418478e+00, -1.31979479e-01, -1.34022653e+00,\n",
              "        -1.44707648e+00],\n",
              "       [-1.87002413e+00, -1.31979479e-01, -1.51073881e+00,\n",
              "        -1.44707648e+00],\n",
              "       [-5.25060772e-02,  2.16998818e+00, -1.45390138e+00,\n",
              "        -1.31544430e+00],\n",
              "       [-1.73673948e-01,  3.09077525e+00, -1.28338910e+00,\n",
              "        -1.05217993e+00],\n",
              "       [-5.37177559e-01,  1.93979142e+00, -1.39706395e+00,\n",
              "        -1.05217993e+00],\n",
              "       [-9.00681170e-01,  1.01900435e+00, -1.34022653e+00,\n",
              "        -1.18381211e+00],\n",
              "       [-1.73673948e-01,  1.70959465e+00, -1.16971425e+00,\n",
              "        -1.18381211e+00],\n",
              "       [-9.00681170e-01,  1.70959465e+00, -1.28338910e+00,\n",
              "        -1.18381211e+00],\n",
              "       [-5.37177559e-01,  7.88807586e-01, -1.16971425e+00,\n",
              "        -1.31544430e+00],\n",
              "       [-9.00681170e-01,  1.47939788e+00, -1.28338910e+00,\n",
              "        -1.05217993e+00],\n",
              "       [-1.50652052e+00,  1.24920112e+00, -1.56757623e+00,\n",
              "        -1.31544430e+00],\n",
              "       [-9.00681170e-01,  5.58610819e-01, -1.16971425e+00,\n",
              "        -9.20547742e-01],\n",
              "       [-1.26418478e+00,  7.88807586e-01, -1.05603939e+00,\n",
              "        -1.31544430e+00],\n",
              "       [-1.02184904e+00, -1.31979479e-01, -1.22655167e+00,\n",
              "        -1.31544430e+00],\n",
              "       [-1.02184904e+00,  7.88807586e-01, -1.22655167e+00,\n",
              "        -1.05217993e+00],\n",
              "       [-7.79513300e-01,  1.01900435e+00, -1.28338910e+00,\n",
              "        -1.31544430e+00],\n",
              "       [-7.79513300e-01,  7.88807586e-01, -1.34022653e+00,\n",
              "        -1.31544430e+00],\n",
              "       [-1.38535265e+00,  3.28414053e-01, -1.22655167e+00,\n",
              "        -1.31544430e+00],\n",
              "       [-1.26418478e+00,  9.82172869e-02, -1.22655167e+00,\n",
              "        -1.31544430e+00],\n",
              "       [-5.37177559e-01,  7.88807586e-01, -1.28338910e+00,\n",
              "        -1.05217993e+00],\n",
              "       [-7.79513300e-01,  2.40018495e+00, -1.28338910e+00,\n",
              "        -1.44707648e+00],\n",
              "       [-4.16009689e-01,  2.63038172e+00, -1.34022653e+00,\n",
              "        -1.31544430e+00],\n",
              "       [-1.14301691e+00,  9.82172869e-02, -1.28338910e+00,\n",
              "        -1.31544430e+00],\n",
              "       [-1.02184904e+00,  3.28414053e-01, -1.45390138e+00,\n",
              "        -1.31544430e+00],\n",
              "       [-4.16009689e-01,  1.01900435e+00, -1.39706395e+00,\n",
              "        -1.31544430e+00],\n",
              "       [-1.14301691e+00,  1.24920112e+00, -1.34022653e+00,\n",
              "        -1.44707648e+00],\n",
              "       [-1.74885626e+00, -1.31979479e-01, -1.39706395e+00,\n",
              "        -1.31544430e+00],\n",
              "       [-9.00681170e-01,  7.88807586e-01, -1.28338910e+00,\n",
              "        -1.31544430e+00],\n",
              "       [-1.02184904e+00,  1.01900435e+00, -1.39706395e+00,\n",
              "        -1.18381211e+00],\n",
              "       [-1.62768839e+00, -1.74335684e+00, -1.39706395e+00,\n",
              "        -1.18381211e+00],\n",
              "       [-1.74885626e+00,  3.28414053e-01, -1.39706395e+00,\n",
              "        -1.31544430e+00],\n",
              "       [-1.02184904e+00,  1.01900435e+00, -1.22655167e+00,\n",
              "        -7.88915558e-01],\n",
              "       [-9.00681170e-01,  1.70959465e+00, -1.05603939e+00,\n",
              "        -1.05217993e+00],\n",
              "       [-1.26418478e+00, -1.31979479e-01, -1.34022653e+00,\n",
              "        -1.18381211e+00],\n",
              "       [-9.00681170e-01,  1.70959465e+00, -1.22655167e+00,\n",
              "        -1.31544430e+00],\n",
              "       [-1.50652052e+00,  3.28414053e-01, -1.34022653e+00,\n",
              "        -1.31544430e+00],\n",
              "       [-6.58345429e-01,  1.47939788e+00, -1.28338910e+00,\n",
              "        -1.31544430e+00],\n",
              "       [-1.02184904e+00,  5.58610819e-01, -1.34022653e+00,\n",
              "        -1.31544430e+00],\n",
              "       [ 1.40150837e+00,  3.28414053e-01,  5.35408562e-01,\n",
              "         2.64141916e-01],\n",
              "       [ 6.74501145e-01,  3.28414053e-01,  4.21733708e-01,\n",
              "         3.95774101e-01],\n",
              "       [ 1.28034050e+00,  9.82172869e-02,  6.49083415e-01,\n",
              "         3.95774101e-01],\n",
              "       [-4.16009689e-01, -1.74335684e+00,  1.37546573e-01,\n",
              "         1.32509732e-01],\n",
              "       [ 7.95669016e-01, -5.92373012e-01,  4.78571135e-01,\n",
              "         3.95774101e-01],\n",
              "       [-1.73673948e-01, -5.92373012e-01,  4.21733708e-01,\n",
              "         1.32509732e-01],\n",
              "       [ 5.53333275e-01,  5.58610819e-01,  5.35408562e-01,\n",
              "         5.27406285e-01],\n",
              "       [-1.14301691e+00, -1.51316008e+00, -2.60315415e-01,\n",
              "        -2.62386821e-01],\n",
              "       [ 9.16836886e-01, -3.62176246e-01,  4.78571135e-01,\n",
              "         1.32509732e-01],\n",
              "       [-7.79513300e-01, -8.22569778e-01,  8.07091462e-02,\n",
              "         2.64141916e-01],\n",
              "       [-1.02184904e+00, -2.43394714e+00, -1.46640561e-01,\n",
              "        -2.62386821e-01],\n",
              "       [ 6.86617933e-02, -1.31979479e-01,  2.51221427e-01,\n",
              "         3.95774101e-01],\n",
              "       [ 1.89829664e-01, -1.97355361e+00,  1.37546573e-01,\n",
              "        -2.62386821e-01],\n",
              "       [ 3.10997534e-01, -3.62176246e-01,  5.35408562e-01,\n",
              "         2.64141916e-01],\n",
              "       [-2.94841818e-01, -3.62176246e-01, -8.98031345e-02,\n",
              "         1.32509732e-01],\n",
              "       [ 1.03800476e+00,  9.82172869e-02,  3.64896281e-01,\n",
              "         2.64141916e-01],\n",
              "       [-2.94841818e-01, -1.31979479e-01,  4.21733708e-01,\n",
              "         3.95774101e-01],\n",
              "       [-5.25060772e-02, -8.22569778e-01,  1.94384000e-01,\n",
              "        -2.62386821e-01],\n",
              "       [ 4.32165405e-01, -1.97355361e+00,  4.21733708e-01,\n",
              "         3.95774101e-01],\n",
              "       [-2.94841818e-01, -1.28296331e+00,  8.07091462e-02,\n",
              "        -1.30754636e-01],\n",
              "       [ 6.86617933e-02,  3.28414053e-01,  5.92245988e-01,\n",
              "         7.90670654e-01],\n",
              "       [ 3.10997534e-01, -5.92373012e-01,  1.37546573e-01,\n",
              "         1.32509732e-01],\n",
              "       [ 5.53333275e-01, -1.28296331e+00,  6.49083415e-01,\n",
              "         3.95774101e-01],\n",
              "       [ 3.10997534e-01, -5.92373012e-01,  5.35408562e-01,\n",
              "         8.77547895e-04],\n",
              "       [ 6.74501145e-01, -3.62176246e-01,  3.08058854e-01,\n",
              "         1.32509732e-01],\n",
              "       [ 9.16836886e-01, -1.31979479e-01,  3.64896281e-01,\n",
              "         2.64141916e-01],\n",
              "       [ 1.15917263e+00, -5.92373012e-01,  5.92245988e-01,\n",
              "         2.64141916e-01],\n",
              "       [ 1.03800476e+00, -1.31979479e-01,  7.05920842e-01,\n",
              "         6.59038469e-01],\n",
              "       [ 1.89829664e-01, -3.62176246e-01,  4.21733708e-01,\n",
              "         3.95774101e-01],\n",
              "       [-1.73673948e-01, -1.05276654e+00, -1.46640561e-01,\n",
              "        -2.62386821e-01],\n",
              "       [-4.16009689e-01, -1.51316008e+00,  2.38717193e-02,\n",
              "        -1.30754636e-01],\n",
              "       [-4.16009689e-01, -1.51316008e+00, -3.29657076e-02,\n",
              "        -2.62386821e-01],\n",
              "       [-5.25060772e-02, -8.22569778e-01,  8.07091462e-02,\n",
              "         8.77547895e-04],\n",
              "       [ 1.89829664e-01, -8.22569778e-01,  7.62758269e-01,\n",
              "         5.27406285e-01],\n",
              "       [-5.37177559e-01, -1.31979479e-01,  4.21733708e-01,\n",
              "         3.95774101e-01],\n",
              "       [ 1.89829664e-01,  7.88807586e-01,  4.21733708e-01,\n",
              "         5.27406285e-01],\n",
              "       [ 1.03800476e+00,  9.82172869e-02,  5.35408562e-01,\n",
              "         3.95774101e-01],\n",
              "       [ 5.53333275e-01, -1.74335684e+00,  3.64896281e-01,\n",
              "         1.32509732e-01],\n",
              "       [-2.94841818e-01, -1.31979479e-01,  1.94384000e-01,\n",
              "         1.32509732e-01],\n",
              "       [-4.16009689e-01, -1.28296331e+00,  1.37546573e-01,\n",
              "         1.32509732e-01],\n",
              "       [-4.16009689e-01, -1.05276654e+00,  3.64896281e-01,\n",
              "         8.77547895e-04],\n",
              "       [ 3.10997534e-01, -1.31979479e-01,  4.78571135e-01,\n",
              "         2.64141916e-01],\n",
              "       [-5.25060772e-02, -1.05276654e+00,  1.37546573e-01,\n",
              "         8.77547895e-04],\n",
              "       [-1.02184904e+00, -1.74335684e+00, -2.60315415e-01,\n",
              "        -2.62386821e-01],\n",
              "       [-2.94841818e-01, -8.22569778e-01,  2.51221427e-01,\n",
              "         1.32509732e-01],\n",
              "       [-1.73673948e-01, -1.31979479e-01,  2.51221427e-01,\n",
              "         8.77547895e-04],\n",
              "       [-1.73673948e-01, -3.62176246e-01,  2.51221427e-01,\n",
              "         1.32509732e-01],\n",
              "       [ 4.32165405e-01, -3.62176246e-01,  3.08058854e-01,\n",
              "         1.32509732e-01],\n",
              "       [-9.00681170e-01, -1.28296331e+00, -4.30827696e-01,\n",
              "        -1.30754636e-01],\n",
              "       [-1.73673948e-01, -5.92373012e-01,  1.94384000e-01,\n",
              "         1.32509732e-01],\n",
              "       [ 5.53333275e-01,  5.58610819e-01,  1.27429511e+00,\n",
              "         1.71209594e+00],\n",
              "       [-5.25060772e-02, -8.22569778e-01,  7.62758269e-01,\n",
              "         9.22302838e-01],\n",
              "       [ 1.52267624e+00, -1.31979479e-01,  1.21745768e+00,\n",
              "         1.18556721e+00],\n",
              "       [ 5.53333275e-01, -3.62176246e-01,  1.04694540e+00,\n",
              "         7.90670654e-01],\n",
              "       [ 7.95669016e-01, -1.31979479e-01,  1.16062026e+00,\n",
              "         1.31719939e+00],\n",
              "       [ 2.12851559e+00, -1.31979479e-01,  1.61531967e+00,\n",
              "         1.18556721e+00],\n",
              "       [-1.14301691e+00, -1.28296331e+00,  4.21733708e-01,\n",
              "         6.59038469e-01],\n",
              "       [ 1.76501198e+00, -3.62176246e-01,  1.44480739e+00,\n",
              "         7.90670654e-01],\n",
              "       [ 1.03800476e+00, -1.28296331e+00,  1.16062026e+00,\n",
              "         7.90670654e-01],\n",
              "       [ 1.64384411e+00,  1.24920112e+00,  1.33113254e+00,\n",
              "         1.71209594e+00],\n",
              "       [ 7.95669016e-01,  3.28414053e-01,  7.62758269e-01,\n",
              "         1.05393502e+00],\n",
              "       [ 6.74501145e-01, -8.22569778e-01,  8.76433123e-01,\n",
              "         9.22302838e-01],\n",
              "       [ 1.15917263e+00, -1.31979479e-01,  9.90107977e-01,\n",
              "         1.18556721e+00],\n",
              "       [-1.73673948e-01, -1.28296331e+00,  7.05920842e-01,\n",
              "         1.05393502e+00],\n",
              "       [-5.25060772e-02, -5.92373012e-01,  7.62758269e-01,\n",
              "         1.58046376e+00],\n",
              "       [ 6.74501145e-01,  3.28414053e-01,  8.76433123e-01,\n",
              "         1.44883158e+00],\n",
              "       [ 7.95669016e-01, -1.31979479e-01,  9.90107977e-01,\n",
              "         7.90670654e-01],\n",
              "       [ 2.24968346e+00,  1.70959465e+00,  1.67215710e+00,\n",
              "         1.31719939e+00],\n",
              "       [ 2.24968346e+00, -1.05276654e+00,  1.78583195e+00,\n",
              "         1.44883158e+00],\n",
              "       [ 1.89829664e-01, -1.97355361e+00,  7.05920842e-01,\n",
              "         3.95774101e-01],\n",
              "       [ 1.28034050e+00,  3.28414053e-01,  1.10378283e+00,\n",
              "         1.44883158e+00],\n",
              "       [-2.94841818e-01, -5.92373012e-01,  6.49083415e-01,\n",
              "         1.05393502e+00],\n",
              "       [ 2.24968346e+00, -5.92373012e-01,  1.67215710e+00,\n",
              "         1.05393502e+00],\n",
              "       [ 5.53333275e-01, -8.22569778e-01,  6.49083415e-01,\n",
              "         7.90670654e-01],\n",
              "       [ 1.03800476e+00,  5.58610819e-01,  1.10378283e+00,\n",
              "         1.18556721e+00],\n",
              "       [ 1.64384411e+00,  3.28414053e-01,  1.27429511e+00,\n",
              "         7.90670654e-01],\n",
              "       [ 4.32165405e-01, -5.92373012e-01,  5.92245988e-01,\n",
              "         7.90670654e-01],\n",
              "       [ 3.10997534e-01, -1.31979479e-01,  6.49083415e-01,\n",
              "         7.90670654e-01],\n",
              "       [ 6.74501145e-01, -5.92373012e-01,  1.04694540e+00,\n",
              "         1.18556721e+00],\n",
              "       [ 1.64384411e+00, -1.31979479e-01,  1.16062026e+00,\n",
              "         5.27406285e-01],\n",
              "       [ 1.88617985e+00, -5.92373012e-01,  1.33113254e+00,\n",
              "         9.22302838e-01],\n",
              "       [ 2.49201920e+00,  1.70959465e+00,  1.50164482e+00,\n",
              "         1.05393502e+00],\n",
              "       [ 6.74501145e-01, -5.92373012e-01,  1.04694540e+00,\n",
              "         1.31719939e+00],\n",
              "       [ 5.53333275e-01, -5.92373012e-01,  7.62758269e-01,\n",
              "         3.95774101e-01],\n",
              "       [ 3.10997534e-01, -1.05276654e+00,  1.04694540e+00,\n",
              "         2.64141916e-01],\n",
              "       [ 2.24968346e+00, -1.31979479e-01,  1.33113254e+00,\n",
              "         1.44883158e+00],\n",
              "       [ 5.53333275e-01,  7.88807586e-01,  1.04694540e+00,\n",
              "         1.58046376e+00],\n",
              "       [ 6.74501145e-01,  9.82172869e-02,  9.90107977e-01,\n",
              "         7.90670654e-01],\n",
              "       [ 1.89829664e-01, -1.31979479e-01,  5.92245988e-01,\n",
              "         7.90670654e-01],\n",
              "       [ 1.28034050e+00,  9.82172869e-02,  9.33270550e-01,\n",
              "         1.18556721e+00],\n",
              "       [ 1.03800476e+00,  9.82172869e-02,  1.04694540e+00,\n",
              "         1.58046376e+00],\n",
              "       [ 1.28034050e+00,  9.82172869e-02,  7.62758269e-01,\n",
              "         1.44883158e+00],\n",
              "       [-5.25060772e-02, -8.22569778e-01,  7.62758269e-01,\n",
              "         9.22302838e-01],\n",
              "       [ 1.15917263e+00,  3.28414053e-01,  1.21745768e+00,\n",
              "         1.44883158e+00],\n",
              "       [ 1.03800476e+00,  5.58610819e-01,  1.10378283e+00,\n",
              "         1.71209594e+00],\n",
              "       [ 1.03800476e+00, -1.31979479e-01,  8.19595696e-01,\n",
              "         1.44883158e+00],\n",
              "       [ 5.53333275e-01, -1.28296331e+00,  7.05920842e-01,\n",
              "         9.22302838e-01],\n",
              "       [ 7.95669016e-01, -1.31979479e-01,  8.19595696e-01,\n",
              "         1.05393502e+00],\n",
              "       [ 4.32165405e-01,  7.88807586e-01,  9.33270550e-01,\n",
              "         1.44883158e+00],\n",
              "       [ 6.86617933e-02, -1.31979479e-01,  7.62758269e-01,\n",
              "         7.90670654e-01]])"
            ]
          },
          "metadata": {},
          "execution_count": 48
        }
      ]
    },
    {
      "cell_type": "markdown",
      "source": [
        "Data Standardization\n",
        "\n",
        "Standardizing a dataset involves rescaling the distribution of values so that the mean of observed values is 0 and the standard deviation is 1.\n",
        "\n",
        "This can be thought of as subtracting the mean value or centering the data.\n",
        "\n",
        "Like normalization, standardization can be useful, and even required in some machine learning algorithms when your data has input values with differing scales.\n",
        "\n",
        "Standardization assumes that your observations fit a Gaussian distribution (bell curve) with a well-behaved mean and standard deviation. You can still standardize your data if this expectation is not met, but you may not get reliable results.\n",
        "\n",
        "\n",
        "Another […] technique is to calculate the statistical mean and standard deviation of the attribute values, subtract the mean from each value, and divide the result by the standard deviation. This process is called standardizing a statistical variable and results in a set of values whose mean is zero and standard deviation is one\n",
        "\n",
        "\n",
        "\n",
        "Subtracting the mean from the data is called **centering**, whereas dividing by the standard deviation is called scaling. As such, the method is sometime called **“center scaling“.**\n",
        "\n",
        "The most straightforward and common data transformation is to center scale the predictor variables. \n",
        "\n",
        "To center a predictor variable, the average predictor value is subtracted from all the values. As a result of centering, the predictor has a zero mean. Similarly, to scale the data, each value of the predictor variable is divided by its standard deviation. Scaling the data coerce the values to have a common standard deviation of one.\n",
        "\n",
        "\n",
        "A value is standardized as follows:\n",
        "\n",
        "y = (x – mean) / standard_deviation\n",
        "\n",
        "Where the mean is calculated as:\n",
        "\n",
        "mean = sum(x) / count(x)\n",
        "\n",
        "And the standard_deviation is calculated as:\n",
        "\n",
        "standard_deviation = sqrt( sum( (x – mean)^2 ) / count(x))\n",
        "\n",
        "We can guesstimate a mean of 10.0 and a standard deviation of about 5.0. Using these values, we can standardize the first value of 20.7 as follows:\n",
        "\n",
        "\n",
        "y = (x – mean) / standard_deviation\n",
        "\n",
        "y = (20.7 – 10) / 5\n",
        "\n",
        "y = (10.7) / 5\n",
        "\n",
        "y = 2.14\n",
        "\n",
        "The mean and standard deviation estimates of a dataset can be more robust to new data than the minimum and maximum."
      ],
      "metadata": {
        "id": "tmIXgeY1l102"
      }
    },
    {
      "cell_type": "code",
      "source": [
        "# example of a standardization\n",
        "from numpy import asarray\n",
        "from sklearn.preprocessing import StandardScaler\n",
        "# define data\n",
        "data = asarray([[100, 0.001],\n",
        " [8, 0.05],\n",
        " [50, 0.005],\n",
        " [88, 0.07],\n",
        " [4, 0.1]])\n",
        "print(data)\n",
        "# define standard scaler\n",
        "scaler = StandardScaler()\n",
        "# transform data\n",
        "scaled = scaler.fit_transform(data)\n",
        "print(scaled)"
      ],
      "metadata": {
        "colab": {
          "base_uri": "https://localhost:8080/"
        },
        "id": "xaqCuHBsni5O",
        "outputId": "f530a262-d3c3-4c42-e787-ae7d6e026c85"
      },
      "execution_count": null,
      "outputs": [
        {
          "output_type": "stream",
          "name": "stdout",
          "text": [
            "[[1.0e+02 1.0e-03]\n",
            " [8.0e+00 5.0e-02]\n",
            " [5.0e+01 5.0e-03]\n",
            " [8.8e+01 7.0e-02]\n",
            " [4.0e+00 1.0e-01]]\n",
            "[[ 1.26398112 -1.16389967]\n",
            " [-1.06174414  0.12639634]\n",
            " [ 0.         -1.05856939]\n",
            " [ 0.96062565  0.65304778]\n",
            " [-1.16286263  1.44302493]]\n"
          ]
        }
      ]
    },
    {
      "cell_type": "markdown",
      "source": [
        "https://machinelearningmastery.com/standardscaler-and-minmaxscaler-transforms-in-python/"
      ],
      "metadata": {
        "id": "v0pikJnLnl48"
      }
    },
    {
      "cell_type": "markdown",
      "source": [
        "**** Z TEST *********\n",
        "\n",
        "In statistics, a two-sample z-test for means is used to determine if the means of two populations are equal. This test is used when the population standard deviations are known. As data scientists, it is of utmost importance to be able to understand and conduct this test accurately. \n",
        "\n",
        "\n",
        "Two-sample Z-test for means is a statistical hypothesis testing technique that is used to determine if the difference between the two population means is not statistically significant. This test is used when the standard deviations (σ) of the two populations are known. This test can be used when we have a sample from each population and we know the variance for these populations.\n",
        "\n",
        "\n",
        "\n",
        "*****Real-world examples where a two-sample z-test for means can be used: **bold text**\n",
        "\n",
        "Comparing the performance of students in two different classes\n",
        "Comparing the average salaries of men and women in a company\n",
        "Comparing the KPIs of two different teams\n",
        "Comparing the performance of employees in two different departments\n",
        "Comparing the average IQ scores of two groups of people\n",
        "Determining if there is a significant difference in the amount of rainfall between two cities\n",
        "Investigating whether the mean daily energy intake of men and women are different\n",
        "\n",
        "\n",
        "**Formula: Two-sample Z-test for means?**\n",
        "![image.png](data:image/png;base64,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)\n",
        "\n",
        "\n",
        "\n"
      ],
      "metadata": {
        "id": "rI-jI3Q6WLB7"
      }
    },
    {
      "cell_type": "markdown",
      "source": [
        "x̄1 is the mean of the first sample\n",
        "x̄2 is the mean of the second sample\n",
        "μ1 is the mean of the first population  \n",
        "(μ1 – μ2) is hypothesized difference between the population means\n",
        "σ1 is the standard deviation of the first population                                                                     σ2 is the standard deviation of the second population\n",
        "n1 is the number of the data points in the first sample\n",
        "n2 is the number of the data points in the second sample\n",
        "\n",
        "https://vitalflux.com/two-samples-z-test-for-means-formula-examples/"
      ],
      "metadata": {
        "id": "8DFhEOJJY8vZ"
      }
    },
    {
      "cell_type": "markdown",
      "source": [
        "You can use the ztest() function from the statsmodels package to perform one sample and two sample z-tests in Python.\n",
        "\n",
        "This function uses the following basic syntax:\n",
        "\n",
        "statsmodels.stats.weightstats.ztest(x1, x2=None, value=0)\n",
        "\n",
        "where:\n",
        "\n",
        "x1: values for the first sample\n",
        "\n",
        "x2: values for the second sample (if performing a two sample z-test)\n",
        "\n",
        "value: mean under the null (in one sample case) or mean difference (in two sample case)"
      ],
      "metadata": {
        "id": "GMomrK60cTlo"
      }
    },
    {
      "cell_type": "markdown",
      "source": [
        "Example 1: One Sample Z-Test in Python\n",
        "\n",
        "Suppose the IQ in a certain population is normally distributed with a mean of μ = 100 and standard deviation of σ = 15.\n",
        "\n",
        "\n",
        "A researcher wants to know if a new drug affects IQ levels, so he recruits 20 patients to try it and records their IQ levels.\n",
        "\n",
        "\n",
        "The following code shows how to perform a one sample z-test in Python to determine if the new drug causes a significant difference in IQ levels:"
      ],
      "metadata": {
        "id": "8hWTTWSMcuJo"
      }
    },
    {
      "cell_type": "code",
      "source": [
        "from statsmodels.stats.weightstats import ztest as ztest\n",
        "\n",
        "#enter IQ levels for 20 patients\n",
        "data = [88, 92, 94, 94, 96, 97, 97, 97, 99, 99,\n",
        "        105, 109, 109, 109, 110, 112, 112, 113, 114, 115]\n",
        "\n",
        "#perform one sample z-test\n",
        "ztest(data, value=100)\n"
      ],
      "metadata": {
        "colab": {
          "base_uri": "https://localhost:8080/"
        },
        "id": "Q0mL1lCscyv_",
        "outputId": "574edc68-2ada-479b-ca89-203d9468953b"
      },
      "execution_count": 3,
      "outputs": [
        {
          "output_type": "execute_result",
          "data": {
            "text/plain": [
              "(1.5976240527147705, 0.1101266701438426)"
            ]
          },
          "metadata": {},
          "execution_count": 3
        }
      ]
    },
    {
      "cell_type": "markdown",
      "source": [
        "The test statistic for the one sample z-test is 1.5976 and the corresponding p-value is 0.1101.\n",
        "\n",
        "Since this p-value is not less than .05, we do not have sufficient evidence to reject the null hypothesis. In other words, the new drug does not significantly affect IQ level."
      ],
      "metadata": {
        "id": "cIOUmDkKd2DA"
      }
    },
    {
      "cell_type": "markdown",
      "source": [
        "Two Sample Z-Test in Python\n",
        "\n",
        "Suppose the IQ levels among individuals in two different cities are known to be normally distributed with known standard deviations.\n",
        "\n",
        "A researcher wants to know if the mean IQ level between individuals in city A and city B are different, so she selects a simple random sample of  20 individuals from each city and records their IQ levels.\n",
        "\n",
        "The following code shows how to perform a two sample z-test in Python to determine if the mean IQ level is different between the two cities:"
      ],
      "metadata": {
        "id": "Oly2O4Yad8HP"
      }
    },
    {
      "cell_type": "code",
      "source": [
        "from statsmodels.stats.weightstats import ztest as ztest\n",
        "\n",
        "#enter IQ levels for 20 individuals from each city\n",
        "cityA = [82, 84, 85, 89, 91, 91, 92, 94, 99, 99,\n",
        "         105, 109, 109, 109, 110, 112, 112, 113, 114, 114]\n",
        "\n",
        "cityB = [90, 91, 91, 91, 95, 95, 99, 99, 108, 109,\n",
        "         109, 114, 115, 116, 117, 117, 128, 129, 130, 133]\n",
        "\n",
        "#perform two sample z-test\n",
        "ztest(cityA, cityB, value=0) "
      ],
      "metadata": {
        "colab": {
          "base_uri": "https://localhost:8080/"
        },
        "id": "jnyc_0K2eL9I",
        "outputId": "872f18cf-0b29-4915-9202-57a1b89aadbc"
      },
      "execution_count": 4,
      "outputs": [
        {
          "output_type": "execute_result",
          "data": {
            "text/plain": [
              "(-1.9953236073282115, 0.046007596761332065)"
            ]
          },
          "metadata": {},
          "execution_count": 4
        }
      ]
    },
    {
      "cell_type": "markdown",
      "source": [
        "The test statistic for the two sample z-test is -1.9953 and the corresponding p-value is 0.0460.\n",
        "\n",
        "Since this p-value is less than .05, we have sufficient evidence to reject the null hypothesis. In other words, the mean IQ level is significantly different between the two cities."
      ],
      "metadata": {
        "id": "OjpkZGigec-n"
      }
    },
    {
      "cell_type": "code",
      "source": [],
      "metadata": {
        "id": "Ia09JoO8dIwf"
      },
      "execution_count": null,
      "outputs": []
    }
  ]
}